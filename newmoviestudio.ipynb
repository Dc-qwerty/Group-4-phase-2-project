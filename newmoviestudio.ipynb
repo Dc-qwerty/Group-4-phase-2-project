{
 "cells": [
  {
   "cell_type": "markdown",
   "metadata": {},
   "source": [
    "# Film Industry Analysis for New Studio Strategy"
   ]
  },
  {
   "cell_type": "markdown",
   "metadata": {},
   "source": [
    "## Introduction\n",
    "As major companies increasingly invest in original video content, the entertainment landscape is rapidly evolving. Our company has decided to enter the film production space by launching a new movie studio. However, with little to no prior experience in filmmaking, it is crucial that we rely on data-driven insights to make informed strategic decisions.\n",
    "This notebook aims to explore current trends in the film industry using both box office performance data and audience ratings. By analyzing what kinds of films are performing best financially and critically, we can provide clear, evidence-based recommendations on the types of films our studio should prioritize."
   ]
  },
  {
   "cell_type": "markdown",
   "metadata": {},
   "source": [
    "## 1. Business Understanding"
   ]
  },
  {
   "cell_type": "code",
   "execution_count": 2,
   "metadata": {},
   "outputs": [
    {
     "name": "stdout",
     "output_type": "stream",
     "text": [
      "Finished Importing Succesfully\n"
     ]
    }
   ],
   "source": [
    "import pandas as pd\n",
    "import sqlite3\n",
    "\n",
    "print('Finished Importing Succesfully')"
   ]
  },
  {
   "cell_type": "markdown",
   "metadata": {},
   "source": [
    "## 2. Data Understanding\n",
    "### 2.1 Data Source\n",
    "The data used in this project comes from two main sources:\n",
    "\n",
    "1) **Box Office Mojo (bom.movie_gross.csv)**\n",
    "This is a compressed CSV file containing box office performance data for a wide range of films. It includes both domestic and international gross earnings by year and studio.\n",
    "\n",
    "2) **IMDb SQLite Database (im.db.zip)**\n",
    "This is a zipped SQLite database that contains metadata and user rating information for movies. The relevant tables, `movie_basics` and `movie_ratings`, were merged to support deeper insights.\n",
    "\n",
    "### Reasons why this Data is sufficient for Analysis\n",
    "These data sources are appropriate for analyzing the business problem because they combine **financial performance metrics** with **audience and film metadata**. This allows us to identify trends in what types of films are both commercially successful and well-received by viewers—critical insights for a company looking to make informed decisions about the kinds of films their new studio should produce.\n",
    "\n"
   ]
  },
  {
   "cell_type": "markdown",
   "metadata": {},
   "source": [
    "### 2.2 Initial Data Exploration\n",
    "In this section, we import our data from the various sources into our workspace for exploration of it's initial properties"
   ]
  },
  {
   "cell_type": "code",
   "execution_count": 3,
   "metadata": {},
   "outputs": [],
   "source": [
    "# First, we connect to the 'ím.db' database using SQLite\n",
    "conn = sqlite3.connect('Data_Folder/im.db/im.db')"
   ]
  },
  {
   "cell_type": "markdown",
   "metadata": {},
   "source": [
    "##### 1. Overview of 'movie _ratings'"
   ]
  },
  {
   "cell_type": "code",
   "execution_count": 4,
   "metadata": {},
   "outputs": [
    {
     "name": "stdout",
     "output_type": "stream",
     "text": [
      "\n",
      "Shape of the Dataset:\n"
     ]
    },
    {
     "data": {
      "text/plain": [
       "(73856, 3)"
      ]
     },
     "metadata": {},
     "output_type": "display_data"
    },
    {
     "name": "stdout",
     "output_type": "stream",
     "text": [
      "\n",
      "First 5 rows:\n"
     ]
    },
    {
     "data": {
      "text/html": [
       "<div>\n",
       "<style scoped>\n",
       "    .dataframe tbody tr th:only-of-type {\n",
       "        vertical-align: middle;\n",
       "    }\n",
       "\n",
       "    .dataframe tbody tr th {\n",
       "        vertical-align: top;\n",
       "    }\n",
       "\n",
       "    .dataframe thead th {\n",
       "        text-align: right;\n",
       "    }\n",
       "</style>\n",
       "<table border=\"1\" class=\"dataframe\">\n",
       "  <thead>\n",
       "    <tr style=\"text-align: right;\">\n",
       "      <th></th>\n",
       "      <th>movie_id</th>\n",
       "      <th>averagerating</th>\n",
       "      <th>numvotes</th>\n",
       "    </tr>\n",
       "  </thead>\n",
       "  <tbody>\n",
       "    <tr>\n",
       "      <th>0</th>\n",
       "      <td>tt10356526</td>\n",
       "      <td>8.3</td>\n",
       "      <td>31</td>\n",
       "    </tr>\n",
       "    <tr>\n",
       "      <th>1</th>\n",
       "      <td>tt10384606</td>\n",
       "      <td>8.9</td>\n",
       "      <td>559</td>\n",
       "    </tr>\n",
       "    <tr>\n",
       "      <th>2</th>\n",
       "      <td>tt1042974</td>\n",
       "      <td>6.4</td>\n",
       "      <td>20</td>\n",
       "    </tr>\n",
       "    <tr>\n",
       "      <th>3</th>\n",
       "      <td>tt1043726</td>\n",
       "      <td>4.2</td>\n",
       "      <td>50352</td>\n",
       "    </tr>\n",
       "    <tr>\n",
       "      <th>4</th>\n",
       "      <td>tt1060240</td>\n",
       "      <td>6.5</td>\n",
       "      <td>21</td>\n",
       "    </tr>\n",
       "  </tbody>\n",
       "</table>\n",
       "</div>"
      ],
      "text/plain": [
       "     movie_id  averagerating  numvotes\n",
       "0  tt10356526            8.3        31\n",
       "1  tt10384606            8.9       559\n",
       "2   tt1042974            6.4        20\n",
       "3   tt1043726            4.2     50352\n",
       "4   tt1060240            6.5        21"
      ]
     },
     "metadata": {},
     "output_type": "display_data"
    },
    {
     "name": "stdout",
     "output_type": "stream",
     "text": [
      "\n",
      "Overall Information:\n",
      "<class 'pandas.core.frame.DataFrame'>\n",
      "RangeIndex: 73856 entries, 0 to 73855\n",
      "Data columns (total 3 columns):\n",
      " #   Column         Non-Null Count  Dtype  \n",
      "---  ------         --------------  -----  \n",
      " 0   movie_id       73856 non-null  object \n",
      " 1   averagerating  73856 non-null  float64\n",
      " 2   numvotes       73856 non-null  int64  \n",
      "dtypes: float64(1), int64(1), object(1)\n",
      "memory usage: 1.7+ MB\n",
      "\n",
      "Summary Description:\n"
     ]
    },
    {
     "data": {
      "text/html": [
       "<div>\n",
       "<style scoped>\n",
       "    .dataframe tbody tr th:only-of-type {\n",
       "        vertical-align: middle;\n",
       "    }\n",
       "\n",
       "    .dataframe tbody tr th {\n",
       "        vertical-align: top;\n",
       "    }\n",
       "\n",
       "    .dataframe thead th {\n",
       "        text-align: right;\n",
       "    }\n",
       "</style>\n",
       "<table border=\"1\" class=\"dataframe\">\n",
       "  <thead>\n",
       "    <tr style=\"text-align: right;\">\n",
       "      <th></th>\n",
       "      <th>averagerating</th>\n",
       "      <th>numvotes</th>\n",
       "    </tr>\n",
       "  </thead>\n",
       "  <tbody>\n",
       "    <tr>\n",
       "      <th>count</th>\n",
       "      <td>73856.000000</td>\n",
       "      <td>7.385600e+04</td>\n",
       "    </tr>\n",
       "    <tr>\n",
       "      <th>mean</th>\n",
       "      <td>6.332729</td>\n",
       "      <td>3.523662e+03</td>\n",
       "    </tr>\n",
       "    <tr>\n",
       "      <th>std</th>\n",
       "      <td>1.474978</td>\n",
       "      <td>3.029402e+04</td>\n",
       "    </tr>\n",
       "    <tr>\n",
       "      <th>min</th>\n",
       "      <td>1.000000</td>\n",
       "      <td>5.000000e+00</td>\n",
       "    </tr>\n",
       "    <tr>\n",
       "      <th>25%</th>\n",
       "      <td>5.500000</td>\n",
       "      <td>1.400000e+01</td>\n",
       "    </tr>\n",
       "    <tr>\n",
       "      <th>50%</th>\n",
       "      <td>6.500000</td>\n",
       "      <td>4.900000e+01</td>\n",
       "    </tr>\n",
       "    <tr>\n",
       "      <th>75%</th>\n",
       "      <td>7.400000</td>\n",
       "      <td>2.820000e+02</td>\n",
       "    </tr>\n",
       "    <tr>\n",
       "      <th>max</th>\n",
       "      <td>10.000000</td>\n",
       "      <td>1.841066e+06</td>\n",
       "    </tr>\n",
       "  </tbody>\n",
       "</table>\n",
       "</div>"
      ],
      "text/plain": [
       "       averagerating      numvotes\n",
       "count   73856.000000  7.385600e+04\n",
       "mean        6.332729  3.523662e+03\n",
       "std         1.474978  3.029402e+04\n",
       "min         1.000000  5.000000e+00\n",
       "25%         5.500000  1.400000e+01\n",
       "50%         6.500000  4.900000e+01\n",
       "75%         7.400000  2.820000e+02\n",
       "max        10.000000  1.841066e+06"
      ]
     },
     "metadata": {},
     "output_type": "display_data"
    },
    {
     "name": "stdout",
     "output_type": "stream",
     "text": [
      "\n",
      "Missing Values in Each Column:\n"
     ]
    },
    {
     "data": {
      "text/plain": [
       "movie_id         0\n",
       "averagerating    0\n",
       "numvotes         0\n",
       "dtype: int64"
      ]
     },
     "execution_count": 4,
     "metadata": {},
     "output_type": "execute_result"
    }
   ],
   "source": [
    "# Let's query the table from the database and store it in a dataframe\n",
    "query1 = \"\"\"\n",
    "    SELECT *\n",
    "    FROM movie_ratings\n",
    "\"\"\"\n",
    "df_1 = pd.read_sql_query(query1, conn)\n",
    "\n",
    "# Let's see an overview of the table\n",
    "print('\\nShape of the Dataset:')\n",
    "display(df_1.shape)\n",
    "print('\\nFirst 5 rows:')\n",
    "display(df_1.head())\n",
    "print('\\nOverall Information:')\n",
    "df_1.info()\n",
    "print('\\nSummary Description:')\n",
    "display(df_1.describe())\n",
    "\n",
    "# Check for missing values\n",
    "print('\\nMissing Values in Each Column:')\n",
    "df_1.isnull().sum()"
   ]
  },
  {
   "cell_type": "markdown",
   "metadata": {},
   "source": [
    "##### 2. Overview of 'movie _basics'"
   ]
  },
  {
   "cell_type": "code",
   "execution_count": 5,
   "metadata": {},
   "outputs": [
    {
     "name": "stdout",
     "output_type": "stream",
     "text": [
      "\n",
      "Shape of the Dataset:\n"
     ]
    },
    {
     "data": {
      "text/plain": [
       "(146144, 6)"
      ]
     },
     "metadata": {},
     "output_type": "display_data"
    },
    {
     "name": "stdout",
     "output_type": "stream",
     "text": [
      "\n",
      "First 5 rows:\n"
     ]
    },
    {
     "data": {
      "text/html": [
       "<div>\n",
       "<style scoped>\n",
       "    .dataframe tbody tr th:only-of-type {\n",
       "        vertical-align: middle;\n",
       "    }\n",
       "\n",
       "    .dataframe tbody tr th {\n",
       "        vertical-align: top;\n",
       "    }\n",
       "\n",
       "    .dataframe thead th {\n",
       "        text-align: right;\n",
       "    }\n",
       "</style>\n",
       "<table border=\"1\" class=\"dataframe\">\n",
       "  <thead>\n",
       "    <tr style=\"text-align: right;\">\n",
       "      <th></th>\n",
       "      <th>movie_id</th>\n",
       "      <th>primary_title</th>\n",
       "      <th>original_title</th>\n",
       "      <th>start_year</th>\n",
       "      <th>runtime_minutes</th>\n",
       "      <th>genres</th>\n",
       "    </tr>\n",
       "  </thead>\n",
       "  <tbody>\n",
       "    <tr>\n",
       "      <th>0</th>\n",
       "      <td>tt0063540</td>\n",
       "      <td>Sunghursh</td>\n",
       "      <td>Sunghursh</td>\n",
       "      <td>2013</td>\n",
       "      <td>175.0</td>\n",
       "      <td>Action,Crime,Drama</td>\n",
       "    </tr>\n",
       "    <tr>\n",
       "      <th>1</th>\n",
       "      <td>tt0066787</td>\n",
       "      <td>One Day Before the Rainy Season</td>\n",
       "      <td>Ashad Ka Ek Din</td>\n",
       "      <td>2019</td>\n",
       "      <td>114.0</td>\n",
       "      <td>Biography,Drama</td>\n",
       "    </tr>\n",
       "    <tr>\n",
       "      <th>2</th>\n",
       "      <td>tt0069049</td>\n",
       "      <td>The Other Side of the Wind</td>\n",
       "      <td>The Other Side of the Wind</td>\n",
       "      <td>2018</td>\n",
       "      <td>122.0</td>\n",
       "      <td>Drama</td>\n",
       "    </tr>\n",
       "    <tr>\n",
       "      <th>3</th>\n",
       "      <td>tt0069204</td>\n",
       "      <td>Sabse Bada Sukh</td>\n",
       "      <td>Sabse Bada Sukh</td>\n",
       "      <td>2018</td>\n",
       "      <td>NaN</td>\n",
       "      <td>Comedy,Drama</td>\n",
       "    </tr>\n",
       "    <tr>\n",
       "      <th>4</th>\n",
       "      <td>tt0100275</td>\n",
       "      <td>The Wandering Soap Opera</td>\n",
       "      <td>La Telenovela Errante</td>\n",
       "      <td>2017</td>\n",
       "      <td>80.0</td>\n",
       "      <td>Comedy,Drama,Fantasy</td>\n",
       "    </tr>\n",
       "  </tbody>\n",
       "</table>\n",
       "</div>"
      ],
      "text/plain": [
       "    movie_id                    primary_title              original_title  \\\n",
       "0  tt0063540                        Sunghursh                   Sunghursh   \n",
       "1  tt0066787  One Day Before the Rainy Season             Ashad Ka Ek Din   \n",
       "2  tt0069049       The Other Side of the Wind  The Other Side of the Wind   \n",
       "3  tt0069204                  Sabse Bada Sukh             Sabse Bada Sukh   \n",
       "4  tt0100275         The Wandering Soap Opera       La Telenovela Errante   \n",
       "\n",
       "   start_year  runtime_minutes                genres  \n",
       "0        2013            175.0    Action,Crime,Drama  \n",
       "1        2019            114.0       Biography,Drama  \n",
       "2        2018            122.0                 Drama  \n",
       "3        2018              NaN          Comedy,Drama  \n",
       "4        2017             80.0  Comedy,Drama,Fantasy  "
      ]
     },
     "metadata": {},
     "output_type": "display_data"
    },
    {
     "name": "stdout",
     "output_type": "stream",
     "text": [
      "\n",
      "Overall Information:\n",
      "<class 'pandas.core.frame.DataFrame'>\n",
      "RangeIndex: 146144 entries, 0 to 146143\n",
      "Data columns (total 6 columns):\n",
      " #   Column           Non-Null Count   Dtype  \n",
      "---  ------           --------------   -----  \n",
      " 0   movie_id         146144 non-null  object \n",
      " 1   primary_title    146144 non-null  object \n",
      " 2   original_title   146123 non-null  object \n",
      " 3   start_year       146144 non-null  int64  \n",
      " 4   runtime_minutes  114405 non-null  float64\n",
      " 5   genres           140736 non-null  object \n",
      "dtypes: float64(1), int64(1), object(4)\n",
      "memory usage: 6.7+ MB\n",
      "\n",
      "Summary Description:\n"
     ]
    },
    {
     "data": {
      "text/html": [
       "<div>\n",
       "<style scoped>\n",
       "    .dataframe tbody tr th:only-of-type {\n",
       "        vertical-align: middle;\n",
       "    }\n",
       "\n",
       "    .dataframe tbody tr th {\n",
       "        vertical-align: top;\n",
       "    }\n",
       "\n",
       "    .dataframe thead th {\n",
       "        text-align: right;\n",
       "    }\n",
       "</style>\n",
       "<table border=\"1\" class=\"dataframe\">\n",
       "  <thead>\n",
       "    <tr style=\"text-align: right;\">\n",
       "      <th></th>\n",
       "      <th>start_year</th>\n",
       "      <th>runtime_minutes</th>\n",
       "    </tr>\n",
       "  </thead>\n",
       "  <tbody>\n",
       "    <tr>\n",
       "      <th>count</th>\n",
       "      <td>146144.000000</td>\n",
       "      <td>114405.000000</td>\n",
       "    </tr>\n",
       "    <tr>\n",
       "      <th>mean</th>\n",
       "      <td>2014.621798</td>\n",
       "      <td>86.187247</td>\n",
       "    </tr>\n",
       "    <tr>\n",
       "      <th>std</th>\n",
       "      <td>2.733583</td>\n",
       "      <td>166.360590</td>\n",
       "    </tr>\n",
       "    <tr>\n",
       "      <th>min</th>\n",
       "      <td>2010.000000</td>\n",
       "      <td>1.000000</td>\n",
       "    </tr>\n",
       "    <tr>\n",
       "      <th>25%</th>\n",
       "      <td>2012.000000</td>\n",
       "      <td>70.000000</td>\n",
       "    </tr>\n",
       "    <tr>\n",
       "      <th>50%</th>\n",
       "      <td>2015.000000</td>\n",
       "      <td>87.000000</td>\n",
       "    </tr>\n",
       "    <tr>\n",
       "      <th>75%</th>\n",
       "      <td>2017.000000</td>\n",
       "      <td>99.000000</td>\n",
       "    </tr>\n",
       "    <tr>\n",
       "      <th>max</th>\n",
       "      <td>2115.000000</td>\n",
       "      <td>51420.000000</td>\n",
       "    </tr>\n",
       "  </tbody>\n",
       "</table>\n",
       "</div>"
      ],
      "text/plain": [
       "          start_year  runtime_minutes\n",
       "count  146144.000000    114405.000000\n",
       "mean     2014.621798        86.187247\n",
       "std         2.733583       166.360590\n",
       "min      2010.000000         1.000000\n",
       "25%      2012.000000        70.000000\n",
       "50%      2015.000000        87.000000\n",
       "75%      2017.000000        99.000000\n",
       "max      2115.000000     51420.000000"
      ]
     },
     "metadata": {},
     "output_type": "display_data"
    },
    {
     "name": "stdout",
     "output_type": "stream",
     "text": [
      "\n",
      "Missing Values in Each Column:\n"
     ]
    },
    {
     "data": {
      "text/plain": [
       "movie_id               0\n",
       "primary_title          0\n",
       "original_title        21\n",
       "start_year             0\n",
       "runtime_minutes    31739\n",
       "genres              5408\n",
       "dtype: int64"
      ]
     },
     "execution_count": 5,
     "metadata": {},
     "output_type": "execute_result"
    }
   ],
   "source": [
    "# Let's query the table from the database and store it in a dataframe\n",
    "query2 = \"\"\"\n",
    "    SELECT *\n",
    "    FROM movie_basics\n",
    "\"\"\"\n",
    "df_2 = pd.read_sql_query(query2, conn)\n",
    "\n",
    "# Let's see an overview of the table\n",
    "print('\\nShape of the Dataset:')\n",
    "display(df_2.shape)\n",
    "print('\\nFirst 5 rows:')\n",
    "display(df_2.head())\n",
    "print('\\nOverall Information:')\n",
    "df_2.info()\n",
    "print('\\nSummary Description:')\n",
    "display(df_2.describe())\n",
    "\n",
    "# Check for missing values\n",
    "print('\\nMissing Values in Each Column:')\n",
    "df_2.isnull().sum()"
   ]
  },
  {
   "cell_type": "markdown",
   "metadata": {},
   "source": [
    "##### 3. Overview of 'Data_Folder/bom.movie_gross.csv'"
   ]
  },
  {
   "cell_type": "code",
   "execution_count": 6,
   "metadata": {},
   "outputs": [
    {
     "name": "stdout",
     "output_type": "stream",
     "text": [
      "\n",
      "Shape of the Dataset:\n"
     ]
    },
    {
     "data": {
      "text/plain": [
       "(3387, 5)"
      ]
     },
     "metadata": {},
     "output_type": "display_data"
    },
    {
     "name": "stdout",
     "output_type": "stream",
     "text": [
      "\n",
      "First 5 rows:\n"
     ]
    },
    {
     "data": {
      "text/html": [
       "<div>\n",
       "<style scoped>\n",
       "    .dataframe tbody tr th:only-of-type {\n",
       "        vertical-align: middle;\n",
       "    }\n",
       "\n",
       "    .dataframe tbody tr th {\n",
       "        vertical-align: top;\n",
       "    }\n",
       "\n",
       "    .dataframe thead th {\n",
       "        text-align: right;\n",
       "    }\n",
       "</style>\n",
       "<table border=\"1\" class=\"dataframe\">\n",
       "  <thead>\n",
       "    <tr style=\"text-align: right;\">\n",
       "      <th></th>\n",
       "      <th>title</th>\n",
       "      <th>studio</th>\n",
       "      <th>domestic_gross</th>\n",
       "      <th>foreign_gross</th>\n",
       "      <th>year</th>\n",
       "    </tr>\n",
       "  </thead>\n",
       "  <tbody>\n",
       "    <tr>\n",
       "      <th>0</th>\n",
       "      <td>Toy Story 3</td>\n",
       "      <td>BV</td>\n",
       "      <td>415000000.0</td>\n",
       "      <td>652000000</td>\n",
       "      <td>2010</td>\n",
       "    </tr>\n",
       "    <tr>\n",
       "      <th>1</th>\n",
       "      <td>Alice in Wonderland (2010)</td>\n",
       "      <td>BV</td>\n",
       "      <td>334200000.0</td>\n",
       "      <td>691300000</td>\n",
       "      <td>2010</td>\n",
       "    </tr>\n",
       "    <tr>\n",
       "      <th>2</th>\n",
       "      <td>Harry Potter and the Deathly Hallows Part 1</td>\n",
       "      <td>WB</td>\n",
       "      <td>296000000.0</td>\n",
       "      <td>664300000</td>\n",
       "      <td>2010</td>\n",
       "    </tr>\n",
       "    <tr>\n",
       "      <th>3</th>\n",
       "      <td>Inception</td>\n",
       "      <td>WB</td>\n",
       "      <td>292600000.0</td>\n",
       "      <td>535700000</td>\n",
       "      <td>2010</td>\n",
       "    </tr>\n",
       "    <tr>\n",
       "      <th>4</th>\n",
       "      <td>Shrek Forever After</td>\n",
       "      <td>P/DW</td>\n",
       "      <td>238700000.0</td>\n",
       "      <td>513900000</td>\n",
       "      <td>2010</td>\n",
       "    </tr>\n",
       "  </tbody>\n",
       "</table>\n",
       "</div>"
      ],
      "text/plain": [
       "                                         title studio  domestic_gross  \\\n",
       "0                                  Toy Story 3     BV     415000000.0   \n",
       "1                   Alice in Wonderland (2010)     BV     334200000.0   \n",
       "2  Harry Potter and the Deathly Hallows Part 1     WB     296000000.0   \n",
       "3                                    Inception     WB     292600000.0   \n",
       "4                          Shrek Forever After   P/DW     238700000.0   \n",
       "\n",
       "  foreign_gross  year  \n",
       "0     652000000  2010  \n",
       "1     691300000  2010  \n",
       "2     664300000  2010  \n",
       "3     535700000  2010  \n",
       "4     513900000  2010  "
      ]
     },
     "metadata": {},
     "output_type": "display_data"
    },
    {
     "name": "stdout",
     "output_type": "stream",
     "text": [
      "\n",
      "Overall Information:\n",
      "<class 'pandas.core.frame.DataFrame'>\n",
      "RangeIndex: 3387 entries, 0 to 3386\n",
      "Data columns (total 5 columns):\n",
      " #   Column          Non-Null Count  Dtype  \n",
      "---  ------          --------------  -----  \n",
      " 0   title           3387 non-null   object \n",
      " 1   studio          3382 non-null   object \n",
      " 2   domestic_gross  3359 non-null   float64\n",
      " 3   foreign_gross   2037 non-null   object \n",
      " 4   year            3387 non-null   int64  \n",
      "dtypes: float64(1), int64(1), object(3)\n",
      "memory usage: 132.4+ KB\n",
      "\n",
      "Summary Description:\n"
     ]
    },
    {
     "data": {
      "text/html": [
       "<div>\n",
       "<style scoped>\n",
       "    .dataframe tbody tr th:only-of-type {\n",
       "        vertical-align: middle;\n",
       "    }\n",
       "\n",
       "    .dataframe tbody tr th {\n",
       "        vertical-align: top;\n",
       "    }\n",
       "\n",
       "    .dataframe thead th {\n",
       "        text-align: right;\n",
       "    }\n",
       "</style>\n",
       "<table border=\"1\" class=\"dataframe\">\n",
       "  <thead>\n",
       "    <tr style=\"text-align: right;\">\n",
       "      <th></th>\n",
       "      <th>domestic_gross</th>\n",
       "      <th>year</th>\n",
       "    </tr>\n",
       "  </thead>\n",
       "  <tbody>\n",
       "    <tr>\n",
       "      <th>count</th>\n",
       "      <td>3.359000e+03</td>\n",
       "      <td>3387.000000</td>\n",
       "    </tr>\n",
       "    <tr>\n",
       "      <th>mean</th>\n",
       "      <td>2.874585e+07</td>\n",
       "      <td>2013.958075</td>\n",
       "    </tr>\n",
       "    <tr>\n",
       "      <th>std</th>\n",
       "      <td>6.698250e+07</td>\n",
       "      <td>2.478141</td>\n",
       "    </tr>\n",
       "    <tr>\n",
       "      <th>min</th>\n",
       "      <td>1.000000e+02</td>\n",
       "      <td>2010.000000</td>\n",
       "    </tr>\n",
       "    <tr>\n",
       "      <th>25%</th>\n",
       "      <td>1.200000e+05</td>\n",
       "      <td>2012.000000</td>\n",
       "    </tr>\n",
       "    <tr>\n",
       "      <th>50%</th>\n",
       "      <td>1.400000e+06</td>\n",
       "      <td>2014.000000</td>\n",
       "    </tr>\n",
       "    <tr>\n",
       "      <th>75%</th>\n",
       "      <td>2.790000e+07</td>\n",
       "      <td>2016.000000</td>\n",
       "    </tr>\n",
       "    <tr>\n",
       "      <th>max</th>\n",
       "      <td>9.367000e+08</td>\n",
       "      <td>2018.000000</td>\n",
       "    </tr>\n",
       "  </tbody>\n",
       "</table>\n",
       "</div>"
      ],
      "text/plain": [
       "       domestic_gross         year\n",
       "count    3.359000e+03  3387.000000\n",
       "mean     2.874585e+07  2013.958075\n",
       "std      6.698250e+07     2.478141\n",
       "min      1.000000e+02  2010.000000\n",
       "25%      1.200000e+05  2012.000000\n",
       "50%      1.400000e+06  2014.000000\n",
       "75%      2.790000e+07  2016.000000\n",
       "max      9.367000e+08  2018.000000"
      ]
     },
     "metadata": {},
     "output_type": "display_data"
    },
    {
     "name": "stdout",
     "output_type": "stream",
     "text": [
      "\n",
      "Missing Values in Each Column:\n"
     ]
    },
    {
     "data": {
      "text/plain": [
       "title                0\n",
       "studio               5\n",
       "domestic_gross      28\n",
       "foreign_gross     1350\n",
       "year                 0\n",
       "dtype: int64"
      ]
     },
     "execution_count": 6,
     "metadata": {},
     "output_type": "execute_result"
    }
   ],
   "source": [
    "# Let's load the csv file into a pandas dataframe\n",
    "df_3 = pd.read_csv('Data_Folder/bom.movie_gross.csv')\n",
    "\n",
    "# Let's see an overview of the table\n",
    "print('\\nShape of the Dataset:')\n",
    "display(df_3.shape)\n",
    "print('\\nFirst 5 rows:')\n",
    "display(df_3.head())\n",
    "print('\\nOverall Information:')\n",
    "df_3.info()\n",
    "print('\\nSummary Description:')\n",
    "display(df_3.describe())\n",
    "\n",
    "# Check for missing values\n",
    "print('\\nMissing Values in Each Column:')\n",
    "df_3.isnull().sum()"
   ]
  },
  {
   "cell_type": "markdown",
   "metadata": {},
   "source": [
    "#### 4. Overview of merged 'movie_ratings' and 'movie_basics'\n",
    "The 2 tables from the 'im.db' database can be joined on the 'movie_id' column. However, we lose half the records from the 'movie basics' table by joining.Therefore, we will still have to perform seperate analysis on it even after analysing the merged table to preserve the richness of the data."
   ]
  },
  {
   "cell_type": "code",
   "execution_count": 7,
   "metadata": {},
   "outputs": [
    {
     "name": "stdout",
     "output_type": "stream",
     "text": [
      "\n",
      "Shape of the Dataset:\n"
     ]
    },
    {
     "data": {
      "text/plain": [
       "(73856, 8)"
      ]
     },
     "metadata": {},
     "output_type": "display_data"
    },
    {
     "name": "stdout",
     "output_type": "stream",
     "text": [
      "\n",
      "First 5 rows:\n"
     ]
    },
    {
     "data": {
      "text/html": [
       "<div>\n",
       "<style scoped>\n",
       "    .dataframe tbody tr th:only-of-type {\n",
       "        vertical-align: middle;\n",
       "    }\n",
       "\n",
       "    .dataframe tbody tr th {\n",
       "        vertical-align: top;\n",
       "    }\n",
       "\n",
       "    .dataframe thead th {\n",
       "        text-align: right;\n",
       "    }\n",
       "</style>\n",
       "<table border=\"1\" class=\"dataframe\">\n",
       "  <thead>\n",
       "    <tr style=\"text-align: right;\">\n",
       "      <th></th>\n",
       "      <th>movie_id</th>\n",
       "      <th>averagerating</th>\n",
       "      <th>numvotes</th>\n",
       "      <th>primary_title</th>\n",
       "      <th>original_title</th>\n",
       "      <th>start_year</th>\n",
       "      <th>runtime_minutes</th>\n",
       "      <th>genres</th>\n",
       "    </tr>\n",
       "  </thead>\n",
       "  <tbody>\n",
       "    <tr>\n",
       "      <th>0</th>\n",
       "      <td>tt10356526</td>\n",
       "      <td>8.3</td>\n",
       "      <td>31</td>\n",
       "      <td>Laiye Je Yaarian</td>\n",
       "      <td>Laiye Je Yaarian</td>\n",
       "      <td>2019</td>\n",
       "      <td>117.0</td>\n",
       "      <td>Romance</td>\n",
       "    </tr>\n",
       "    <tr>\n",
       "      <th>1</th>\n",
       "      <td>tt10384606</td>\n",
       "      <td>8.9</td>\n",
       "      <td>559</td>\n",
       "      <td>Borderless</td>\n",
       "      <td>Borderless</td>\n",
       "      <td>2019</td>\n",
       "      <td>87.0</td>\n",
       "      <td>Documentary</td>\n",
       "    </tr>\n",
       "    <tr>\n",
       "      <th>2</th>\n",
       "      <td>tt1042974</td>\n",
       "      <td>6.4</td>\n",
       "      <td>20</td>\n",
       "      <td>Just Inès</td>\n",
       "      <td>Just Inès</td>\n",
       "      <td>2010</td>\n",
       "      <td>90.0</td>\n",
       "      <td>Drama</td>\n",
       "    </tr>\n",
       "    <tr>\n",
       "      <th>3</th>\n",
       "      <td>tt1043726</td>\n",
       "      <td>4.2</td>\n",
       "      <td>50352</td>\n",
       "      <td>The Legend of Hercules</td>\n",
       "      <td>The Legend of Hercules</td>\n",
       "      <td>2014</td>\n",
       "      <td>99.0</td>\n",
       "      <td>Action,Adventure,Fantasy</td>\n",
       "    </tr>\n",
       "    <tr>\n",
       "      <th>4</th>\n",
       "      <td>tt1060240</td>\n",
       "      <td>6.5</td>\n",
       "      <td>21</td>\n",
       "      <td>Até Onde?</td>\n",
       "      <td>Até Onde?</td>\n",
       "      <td>2011</td>\n",
       "      <td>73.0</td>\n",
       "      <td>Mystery,Thriller</td>\n",
       "    </tr>\n",
       "  </tbody>\n",
       "</table>\n",
       "</div>"
      ],
      "text/plain": [
       "     movie_id  averagerating  numvotes           primary_title  \\\n",
       "0  tt10356526            8.3        31        Laiye Je Yaarian   \n",
       "1  tt10384606            8.9       559              Borderless   \n",
       "2   tt1042974            6.4        20               Just Inès   \n",
       "3   tt1043726            4.2     50352  The Legend of Hercules   \n",
       "4   tt1060240            6.5        21               Até Onde?   \n",
       "\n",
       "           original_title  start_year  runtime_minutes  \\\n",
       "0        Laiye Je Yaarian        2019            117.0   \n",
       "1              Borderless        2019             87.0   \n",
       "2               Just Inès        2010             90.0   \n",
       "3  The Legend of Hercules        2014             99.0   \n",
       "4               Até Onde?        2011             73.0   \n",
       "\n",
       "                     genres  \n",
       "0                   Romance  \n",
       "1               Documentary  \n",
       "2                     Drama  \n",
       "3  Action,Adventure,Fantasy  \n",
       "4          Mystery,Thriller  "
      ]
     },
     "metadata": {},
     "output_type": "display_data"
    },
    {
     "name": "stdout",
     "output_type": "stream",
     "text": [
      "\n",
      "Overall Information:\n",
      "<class 'pandas.core.frame.DataFrame'>\n",
      "RangeIndex: 73856 entries, 0 to 73855\n",
      "Data columns (total 8 columns):\n",
      " #   Column           Non-Null Count  Dtype  \n",
      "---  ------           --------------  -----  \n",
      " 0   movie_id         73856 non-null  object \n",
      " 1   averagerating    73856 non-null  float64\n",
      " 2   numvotes         73856 non-null  int64  \n",
      " 3   primary_title    73856 non-null  object \n",
      " 4   original_title   73856 non-null  object \n",
      " 5   start_year       73856 non-null  int64  \n",
      " 6   runtime_minutes  66236 non-null  float64\n",
      " 7   genres           73052 non-null  object \n",
      "dtypes: float64(2), int64(2), object(4)\n",
      "memory usage: 4.5+ MB\n",
      "\n",
      "Summary Description:\n"
     ]
    },
    {
     "data": {
      "text/html": [
       "<div>\n",
       "<style scoped>\n",
       "    .dataframe tbody tr th:only-of-type {\n",
       "        vertical-align: middle;\n",
       "    }\n",
       "\n",
       "    .dataframe tbody tr th {\n",
       "        vertical-align: top;\n",
       "    }\n",
       "\n",
       "    .dataframe thead th {\n",
       "        text-align: right;\n",
       "    }\n",
       "</style>\n",
       "<table border=\"1\" class=\"dataframe\">\n",
       "  <thead>\n",
       "    <tr style=\"text-align: right;\">\n",
       "      <th></th>\n",
       "      <th>averagerating</th>\n",
       "      <th>numvotes</th>\n",
       "      <th>start_year</th>\n",
       "      <th>runtime_minutes</th>\n",
       "    </tr>\n",
       "  </thead>\n",
       "  <tbody>\n",
       "    <tr>\n",
       "      <th>count</th>\n",
       "      <td>73856.000000</td>\n",
       "      <td>7.385600e+04</td>\n",
       "      <td>73856.000000</td>\n",
       "      <td>66236.000000</td>\n",
       "    </tr>\n",
       "    <tr>\n",
       "      <th>mean</th>\n",
       "      <td>6.332729</td>\n",
       "      <td>3.523662e+03</td>\n",
       "      <td>2014.276132</td>\n",
       "      <td>94.654040</td>\n",
       "    </tr>\n",
       "    <tr>\n",
       "      <th>std</th>\n",
       "      <td>1.474978</td>\n",
       "      <td>3.029402e+04</td>\n",
       "      <td>2.614807</td>\n",
       "      <td>208.574111</td>\n",
       "    </tr>\n",
       "    <tr>\n",
       "      <th>min</th>\n",
       "      <td>1.000000</td>\n",
       "      <td>5.000000e+00</td>\n",
       "      <td>2010.000000</td>\n",
       "      <td>3.000000</td>\n",
       "    </tr>\n",
       "    <tr>\n",
       "      <th>25%</th>\n",
       "      <td>5.500000</td>\n",
       "      <td>1.400000e+01</td>\n",
       "      <td>2012.000000</td>\n",
       "      <td>81.000000</td>\n",
       "    </tr>\n",
       "    <tr>\n",
       "      <th>50%</th>\n",
       "      <td>6.500000</td>\n",
       "      <td>4.900000e+01</td>\n",
       "      <td>2014.000000</td>\n",
       "      <td>91.000000</td>\n",
       "    </tr>\n",
       "    <tr>\n",
       "      <th>75%</th>\n",
       "      <td>7.400000</td>\n",
       "      <td>2.820000e+02</td>\n",
       "      <td>2016.000000</td>\n",
       "      <td>104.000000</td>\n",
       "    </tr>\n",
       "    <tr>\n",
       "      <th>max</th>\n",
       "      <td>10.000000</td>\n",
       "      <td>1.841066e+06</td>\n",
       "      <td>2019.000000</td>\n",
       "      <td>51420.000000</td>\n",
       "    </tr>\n",
       "  </tbody>\n",
       "</table>\n",
       "</div>"
      ],
      "text/plain": [
       "       averagerating      numvotes    start_year  runtime_minutes\n",
       "count   73856.000000  7.385600e+04  73856.000000     66236.000000\n",
       "mean        6.332729  3.523662e+03   2014.276132        94.654040\n",
       "std         1.474978  3.029402e+04      2.614807       208.574111\n",
       "min         1.000000  5.000000e+00   2010.000000         3.000000\n",
       "25%         5.500000  1.400000e+01   2012.000000        81.000000\n",
       "50%         6.500000  4.900000e+01   2014.000000        91.000000\n",
       "75%         7.400000  2.820000e+02   2016.000000       104.000000\n",
       "max        10.000000  1.841066e+06   2019.000000     51420.000000"
      ]
     },
     "metadata": {},
     "output_type": "display_data"
    },
    {
     "name": "stdout",
     "output_type": "stream",
     "text": [
      "\n",
      "Missing Values in Each Column:\n"
     ]
    },
    {
     "data": {
      "text/plain": [
       "movie_id              0\n",
       "averagerating         0\n",
       "numvotes              0\n",
       "primary_title         0\n",
       "original_title        0\n",
       "start_year            0\n",
       "runtime_minutes    7620\n",
       "genres              804\n",
       "dtype: int64"
      ]
     },
     "execution_count": 7,
     "metadata": {},
     "output_type": "execute_result"
    }
   ],
   "source": [
    "# Let's perform an inner join on the 2 tables\n",
    "df_merged = pd.merge(df_1, df_2, on = 'movie_id', how = 'inner')\n",
    "\n",
    "# Let's see an overview of the table\n",
    "print('\\nShape of the Dataset:')\n",
    "display(df_merged.shape)\n",
    "print('\\nFirst 5 rows:')\n",
    "display(df_merged.head())\n",
    "print('\\nOverall Information:')\n",
    "df_merged.info()\n",
    "print('\\nSummary Description:')\n",
    "display(df_merged.describe())\n",
    "\n",
    "# Check for missing values\n",
    "print('\\nMissing Values in Each Column:')\n",
    "df_merged.isnull().sum()"
   ]
  },
  {
   "cell_type": "markdown",
   "metadata": {},
   "source": [
    "5. Overview of 'Movie_budgets'\n"
   ]
  },
  {
   "cell_type": "code",
   "execution_count": 30,
   "metadata": {},
   "outputs": [
    {
     "name": "stdout",
     "output_type": "stream",
     "text": [
      "['id', 'release_date', 'movie', 'production_budget', 'domestic_gross', 'worldwide_gross']\n"
     ]
    }
   ],
   "source": [
    "# Reload and check columns again\n",
    "df_4 = pd.read_csv('Data_Folder/tn.movie_budgets.csv')\n",
    "print(df_4.columns.tolist())\n"
   ]
  },
  {
   "cell_type": "markdown",
   "metadata": {},
   "source": [
    "### 2.3 Feature Understanding and Documentation\n",
    "To support the analysis of film performance and guide our studio’s content strategy, we use features from two datasets: `bom.movie_gross.csv.gz` (Box Office Mojo) and a merged table from `movie_basics` and `movie_ratings` in `im.db` (IMDb metadata and ratings). Below is a breakdown of the features in each dataset.\n",
    "\n",
    "#### 1. `bom.movie_gross.csv.gz`\n",
    "This dataset provides financial performance data for films.\n",
    "- **Identification :**\n",
    "    - *title*: The name of the film (string)\n",
    "- **Production :**\n",
    "    - *studio*: The production or distribution studio responsible for the film (string).\n",
    "- **Finanicial Metrics :**\n",
    "    - *domestic_gross*: Total box office revenue earned in the domestic (U.S.) market\n",
    "    - *foreign_gross*: Total box office revenue earned in international markets *(integer or float)*.\n",
    "\n",
    "#### 2. IMDb Merged Table: `movie_basic` + `movie_ratings`\n",
    "This dataset provides financial performance data for films.\n",
    "- **Identification :**\n",
    "    - *movie_id*: A unique identifier for each film(string)\n",
    "- **Titles :**\n",
    "    - *primary_title* : The title most commonly used(string).\n",
    "    - *original_title* : The title most commonly used(string).\n",
    "- **Time :**\n",
    "    - *start_year*: The year the film was first released\n",
    "- **Content Characteristics :**\n",
    "    - *runtime_minutes* : The duration of the film in minutes\n",
    "    - *genres* : The genre or genres associated with the film.\n",
    "- **Audience Feedback :**\n",
    "    - *averagerating* : The average IMDb user rating for the film\n",
    "    - *numvotes* : The total number of IMDb users who rated the film\n",
    "\n",
    "These features provide a holistic view of each film by combining:\n",
    "- **Box office success** (via revenue and studio info),\n",
    "- **Descriptive and categorical characteristics** (like genre and runtime),\n",
    "- **Audience sentiment** (via ratings and vote counts), and\n",
    "- **Temporal context** (release year)."
   ]
  },
  {
   "cell_type": "markdown",
   "metadata": {},
   "source": [
    "### 2.4 Feature Selection"
   ]
  },
  {
   "cell_type": "markdown",
   "metadata": {},
   "source": [
    "## 3. Data Preparation"
   ]
  },
  {
   "cell_type": "markdown",
   "metadata": {},
   "source": [
    "In this section, we prepared three datasets for analysis:\n",
    "\n",
    "- **`bom_movie_gross.csv`** – Contains box office performance data including domestic and foreign gross revenues.\n",
    "- **`tn.movie_budgets.csv`** – Provides production budget information alongside domestic and worldwide gross figures.\n",
    "- **`im.db`** – A SQLite database containing additional metadata about movies, including genre, ratings etc.\n",
    "\n",
    "The following data cleaning and preparation steps were carried out:\n",
    "\n",
    "- **Inspection of Dataset Structure**: Reviewed shapes, column names, and data types to understand the structure of each dataset.\n",
    "- **Handling Missing Values**: Identified and addressed missing values using appropriate techniques such as dropping nulls or imputing where necessary.\n",
    "- **Data Type Conversion**: Converted monetary columns from strings (with dollar signs and commas) to numeric formats for computation.\n",
    "- **Date Parsing**: Transformed release date strings into datetime objects and extracted year values for time-based analysis.\n",
    "- **Duplicate Removal**: Checked for and confirmed the absence of duplicate rows.\n",
    "- **Profit Calculation**: Created new columns (e.g., `profit`) by subtracting production budgets from gross earnings.\n",
    "- **Merging datasets** to enrich the data, combining relevant information across files based on common keys such as movie titles and years.\n",
    "- **Saving Cleaned Data**: Exported cleaned versions of key datasets to CSV files for later use.\n",
    "\n",
    "These steps ensured a clean and consistent structure across all data sources, allowing for meaningful analysis and visualization.\n"
   ]
  },
  {
   "cell_type": "markdown",
   "metadata": {},
   "source": [
    "### "
   ]
  },
  {
   "cell_type": "markdown",
   "metadata": {},
   "source": [
    "3.1 Cleaning and Preparing the \"bom.movie_gross.csv\""
   ]
  },
  {
   "cell_type": "code",
   "execution_count": 8,
   "metadata": {},
   "outputs": [
    {
     "name": "stdout",
     "output_type": "stream",
     "text": [
      "\n",
      "Number of duplicate rows: 0\n",
      "\n",
      "No duplicate rows found.\n",
      "\n",
      "Data Types of Each Column:\n",
      "title              object\n",
      "studio             object\n",
      "domestic_gross    float64\n",
      "foreign_gross      object\n",
      "year                int64\n",
      "dtype: object\n",
      "Warning: Column 'studio' has mixed data types: [<class 'str'> <class 'float'>]\n",
      "Warning: Column 'foreign_gross' has mixed data types: [<class 'str'> <class 'float'>]\n",
      "\n",
      "Columns with Missing Values and their counts:\n",
      "studio               5\n",
      "domestic_gross      28\n",
      "foreign_gross     1350\n",
      "dtype: int64\n"
     ]
    }
   ],
   "source": [
    "df = pd.read_csv('Data_Folder/bom.movie_gross.csv')\n",
    "\n",
    "#checking for duplicate rows\n",
    "duplicate_bool = df.duplicated()\n",
    "num_duplicates = duplicate_bool.sum()\n",
    "print(f'\\nNumber of duplicate rows: {num_duplicates}')\n",
    "\n",
    "#display duplicate rows for inspection\n",
    "if num_duplicates > 0:\n",
    "    print('\\nDuplicate Rows:')\n",
    "    display(df[duplicate_bool])\n",
    "else:\n",
    "    print('\\nNo duplicate rows found.')\n",
    "\n",
    "\n",
    "#Display data types of each column\n",
    "print('\\nData Types of Each Column:')\n",
    "print(df.dtypes)\n",
    "#check if any columns have mixed data types\n",
    "for col in df.columns:\n",
    "    unique_types = df[col].map(type).unique()\n",
    "    if len(unique_types) > 1:\n",
    "        print(f\"Warning: Column '{col}' has mixed data types: {unique_types}\")\n",
    "\n",
    "\n",
    "#Checking for missing values\n",
    "missing_counts = df.isnull().sum()\n",
    "#Show columns with missing values\n",
    "missing_columns = missing_counts[missing_counts > 0]\n",
    "if not missing_columns.empty:\n",
    "    print('\\nColumns with Missing Values and their counts:')\n",
    "    print(missing_columns)\n",
    "else:\n",
    "    print('\\nNo missing values found in the dataset.')\n"
   ]
  },
  {
   "cell_type": "markdown",
   "metadata": {},
   "source": [
    "3.2 Converitng non-string values in 'studio' to \"NaN\""
   ]
  },
  {
   "cell_type": "code",
   "execution_count": 9,
   "metadata": {},
   "outputs": [
    {
     "name": "stdout",
     "output_type": "stream",
     "text": [
      "unique types in 'studio' after cleaning:\n",
      "[<class 'str'> <class 'float'>]\n",
      "[nan]\n"
     ]
    }
   ],
   "source": [
    "#importing necessary library\n",
    "import numpy as np\n",
    "\n",
    "#converitng non-string values in studio column to string\n",
    "df['studio'] = df['studio'].apply(lambda x: x if isinstance(x, str) else np.nan)\n",
    "\n",
    "print(\"unique types in 'studio' after cleaning:\")\n",
    "print(df['studio'].map(type).unique())\n",
    "\n",
    "#show all non_string values in the 'studio' column\n",
    "non_strings = df[df['studio'].map(type) != str]\n",
    "print(non_strings['studio'].unique())\n",
    "\n",
    "\n"
   ]
  },
  {
   "cell_type": "markdown",
   "metadata": {},
   "source": [
    "3.3 Converting 'foreign_gross' data to float."
   ]
  },
  {
   "cell_type": "code",
   "execution_count": 10,
   "metadata": {},
   "outputs": [
    {
     "name": "stdout",
     "output_type": "stream",
     "text": [
      "float64\n"
     ]
    }
   ],
   "source": [
    "#first, remove commas(if any)\n",
    "df['foreign_gross'] = df['foreign_gross'].replace(',', '', regex=True)\n",
    "#then convert non-numeric values to NaN\n",
    "df['foreign_gross'] = pd.to_numeric(df['foreign_gross'], errors='coerce')\n",
    "\n",
    "#check the new data type\n",
    "print(df['foreign_gross'].dtype)"
   ]
  },
  {
   "cell_type": "markdown",
   "metadata": {},
   "source": [
    "3.4 Visualizing missing values with seaborn and matplotlib."
   ]
  },
  {
   "cell_type": "code",
   "execution_count": 11,
   "metadata": {},
   "outputs": [
    {
     "data": {
      "image/png": "[encoded data removed]",
      "text/plain": [
       "<Figure size 1000x600 with 1 Axes>"
      ]
     },
     "metadata": {},
     "output_type": "display_data"
    },
    {
     "data": {
      "image/png": "[encoded data removed]",
      "text/plain": [
       "<Figure size 800x400 with 1 Axes>"
      ]
     },
     "metadata": {},
     "output_type": "display_data"
    }
   ],
   "source": [
    "#importing necessary libraries\n",
    "import matplotlib.pyplot as plt\n",
    "import seaborn as sns\n",
    "\n",
    "#create a boolean dataframe for missing values\n",
    "missing = df.isnull()\n",
    "\n",
    "#plotting a heatmap of missing values\n",
    "plt.figure(figsize=(10, 6))\n",
    "sns.heatmap(missing, cbar=False, yticklabels=False, cmap='viridis')\n",
    "plt.title('Missing Values Heatmap')\n",
    "plt.show()\n",
    "\n",
    "#bar plot of missing values count per column\n",
    "missing_counts = df.isnull().sum()\n",
    "plt.figure(figsize=(8, 4))\n",
    "sns.barplot(x=missing_counts.index, y=missing_counts.values)\n",
    "plt.xticks(rotation=45)\n",
    "plt.title('Missing Values per Column')\n",
    "plt.ylabel('Number of Missing Values')\n",
    "plt.xlabel('Columns')\n",
    "plt.show()"
   ]
  },
  {
   "cell_type": "markdown",
   "metadata": {},
   "source": [
    "### Missing Values Visualization Summary\n",
    "\n",
    "To better understand the distribution of missing data in the `bom.movie_gross.csv` dataset, we visualized the missing values using both a **heatmap** and a **bar chart**:\n",
    "\n",
    "- The **heatmap** clearly highlights rows with missing entries, particularly in the `foreign_gross` column, which has a substantial number of null values.\n",
    "- The **bar chart** of missing values confirms the numerical summary:\n",
    "  - `foreign_gross` has the highest number of missing entries (1350), indicating that data for international revenue is often unreported or unavailable.\n",
    "  - `domestic_gross` has a relatively small number of missing values (28).\n",
    "  - `studio` has very few missing values (5), which is minimal but should still be handled.\n",
    " \n",
    "These visualizations provide insight into the severity and concentration of missing values. \n"
   ]
  },
  {
   "cell_type": "markdown",
   "metadata": {},
   "source": [
    "3.5 Handling missing data."
   ]
  },
  {
   "cell_type": "code",
   "execution_count": 12,
   "metadata": {},
   "outputs": [
    {
     "name": "stdout",
     "output_type": "stream",
     "text": [
      "missing values after cleaning:\n",
      "studio            0\n",
      "domestic_gross    0\n",
      "foreign_gross     0\n",
      "dtype: int64\n"
     ]
    }
   ],
   "source": [
    "#handling missing values in each column\n",
    "df['studio'] = df['studio'].fillna('Unknown')  # Fill missing studio names with 'Unknown' cause it only has 5 missing values\n",
    "df['domestic_gross'] = df['domestic_gross'].fillna(0)  # missing values can mean the movie had no domestic gross recorded\n",
    "df['foreign_gross'] = df['foreign_gross'].fillna(0)  # missing values can mean the movie had no foreign gross recorded\n",
    "\n",
    "#To confirm no missing values remain.\n",
    "print(\"missing values after cleaning:\")\n",
    "print(df[['studio', 'domestic_gross', 'foreign_gross']].isnull().sum())\n",
    "\n",
    "#saving the cleaned dataframe to a new csv file\n",
    "df.to_csv('Data_Folder/cleaned_bom_movie_gross.csv', index=False)\n"
   ]
  },
  {
   "cell_type": "markdown",
   "metadata": {},
   "source": [
    "3.6 Data cleaning and preparation for 'im.db' file\n",
    "\n",
    "3.6.1 Movie_ratings."
   ]
  },
  {
   "cell_type": "code",
   "execution_count": 13,
   "metadata": {},
   "outputs": [
    {
     "name": "stdout",
     "output_type": "stream",
     "text": [
      "initial shape of movie_ratings: (73856, 3)\n",
      "nNumber of duplicate rows:0\n",
      "sample duplicate rows:\n",
      "Empty DataFrame\n",
      "Columns: [movie_id, averagerating, numvotes]\n",
      "Index: []\n",
      "Missing values per column:\n",
      "movie_id         0\n",
      "averagerating    0\n",
      "numvotes         0\n",
      "dtype: int64\n",
      "\n",
      "percentage of missing values per column:\n",
      "movie_id         0.0\n",
      "averagerating    0.0\n",
      "numvotes         0.0\n",
      "dtype: float64\n"
     ]
    }
   ],
   "source": [
    "#connecting to the database\n",
    "conn = sqlite3.connect('Data_Folder/im.db/im.db')\n",
    "#load movie_ratings table from the database\n",
    "movie_ratings = pd.read_sql_query(\"SELECT * FROM movie_ratings\", conn)\n",
    "# show initialshape of the table\n",
    "print(\"initial shape of movie_ratings:\",movie_ratings.shape)\n",
    "\n",
    "# Check for duplicates in the movie_ratings table\n",
    "duplicates = movie_ratings[movie_ratings.duplicated()]\n",
    "print(f\"nNumber of duplicate rows:{duplicates.shape[0]}\")\n",
    "print(\"sample duplicate rows:\")\n",
    "print(duplicates.head())\n",
    "\n",
    "#Check for missing values\n",
    "missing_values = movie_ratings.isnull().sum()\n",
    "print(\"Missing values per column:\")\n",
    "print(missing_values)\n",
    "\n",
    "#percentage of missing values\n",
    "missing_percent = (movie_ratings.isnull().sum() / len(movie_ratings)) * 100\n",
    "print(\"\\npercentage of missing values per column:\")\n",
    "print(missing_percent)"
   ]
  },
  {
   "cell_type": "markdown",
   "metadata": {},
   "source": [
    "3.6.2 Movie_basics "
   ]
  },
  {
   "cell_type": "code",
   "execution_count": 14,
   "metadata": {},
   "outputs": [
    {
     "name": "stdout",
     "output_type": "stream",
     "text": [
      "Initial shape of movie_basics: (146144, 6)\n",
      "Number of duplicate rows: 0\n",
      "Missing values per column:\n",
      "movie_id               0\n",
      "primary_title          0\n",
      "original_title        21\n",
      "start_year             0\n",
      "runtime_minutes    31739\n",
      "genres              5408\n",
      "dtype: int64\n",
      "\n",
      "Percentage of missing values per column:\n",
      "movie_id            0.000000\n",
      "primary_title       0.000000\n",
      "original_title      0.014369\n",
      "start_year          0.000000\n",
      "runtime_minutes    21.717621\n",
      "genres              3.700460\n",
      "dtype: float64\n"
     ]
    }
   ],
   "source": [
    "# Load movie_basics table\n",
    "movie_basics = pd.read_sql_query(\"SELECT * FROM movie_basics\", conn)\n",
    "\n",
    "# Check initial shape\n",
    "print(\"Initial shape of movie_basics:\", movie_basics.shape)\n",
    "\n",
    "# Check for duplicates\n",
    "duplicates = movie_basics[movie_basics.duplicated()]\n",
    "print(f\"Number of duplicate rows: {duplicates.shape[0]}\")\n",
    "\n",
    "# Check missing values\n",
    "missing_values = movie_basics.isnull().sum()\n",
    "print(\"Missing values per column:\")\n",
    "print(missing_values)\n",
    "\n",
    "# Percentage of missing values\n",
    "missing_percent = (movie_basics.isnull().sum() / len(movie_basics)) * 100\n",
    "print(\"\\nPercentage of missing values per column:\")\n",
    "print(missing_percent)\n"
   ]
  },
  {
   "cell_type": "code",
   "execution_count": 15,
   "metadata": {},
   "outputs": [
    {
     "name": "stdout",
     "output_type": "stream",
     "text": [
      "\n",
      "Missing values after cleaning:\n",
      "movie_id           0\n",
      "primary_title      0\n",
      "original_title     0\n",
      "start_year         0\n",
      "runtime_minutes    0\n",
      "genres             0\n",
      "dtype: int64\n"
     ]
    }
   ],
   "source": [
    "# Handle missing values\n",
    "# For runtime_minutes, fill with median \n",
    "runtime_median = movie_basics['runtime_minutes'].median()\n",
    "movie_basics['runtime_minutes'] = movie_basics['runtime_minutes'].fillna(runtime_median)\n",
    "\n",
    "# For genres, create 'Unknown' category\n",
    "movie_basics['genres'] = movie_basics['genres'].fillna('Unknown')\n",
    "\n",
    "# For original_title (only 21 missing), we can fill with primary_title\n",
    "movie_basics['original_title'] = movie_basics['original_title'].fillna(movie_basics['primary_title'])\n",
    "\n",
    "# Verify no missing values remain\n",
    "print(\"\\nMissing values after cleaning:\")\n",
    "print(movie_basics.isnull().sum())"
   ]
  },
  {
   "cell_type": "markdown",
   "metadata": {},
   "source": [
    "3.7 Cleaning and preparing 'movie_budgets.csv' file"
   ]
  },
  {
   "cell_type": "code",
   "execution_count": 33,
   "metadata": {},
   "outputs": [
    {
     "name": "stdout",
     "output_type": "stream",
     "text": [
      "Shape of the dataset: (5782, 6)\n",
      "Column names: ['id', 'release_date', 'movie', 'production_budget', 'domestic_gross', 'worldwide_gross']\n",
      "\n",
      "Dataset Info:\n",
      "<class 'pandas.core.frame.DataFrame'>\n",
      "RangeIndex: 5782 entries, 0 to 5781\n",
      "Data columns (total 6 columns):\n",
      " #   Column             Non-Null Count  Dtype \n",
      "---  ------             --------------  ----- \n",
      " 0   id                 5782 non-null   int64 \n",
      " 1   release_date       5782 non-null   object\n",
      " 2   movie              5782 non-null   object\n",
      " 3   production_budget  5782 non-null   object\n",
      " 4   domestic_gross     5782 non-null   object\n",
      " 5   worldwide_gross    5782 non-null   object\n",
      "dtypes: int64(1), object(5)\n",
      "memory usage: 271.2+ KB\n",
      "None\n",
      "\n",
      "First 5 rows of the dataset:\n",
      "   id  release_date                                        movie  \\\n",
      "0   1  Dec 18, 2009                                       Avatar   \n",
      "1   2  May 20, 2011  Pirates of the Caribbean: On Stranger Tides   \n",
      "2   3   Jun 7, 2019                                 Dark Phoenix   \n",
      "3   4   May 1, 2015                      Avengers: Age of Ultron   \n",
      "4   5  Dec 15, 2017            Star Wars Ep. VIII: The Last Jedi   \n",
      "\n",
      "  production_budget domestic_gross worldwide_gross  \n",
      "0      $425,000,000   $760,507,625  $2,776,345,279  \n",
      "1      $410,600,000   $241,063,875  $1,045,663,875  \n",
      "2      $350,000,000    $42,762,350    $149,762,350  \n",
      "3      $330,600,000   $459,005,868  $1,403,013,963  \n",
      "4      $317,000,000   $620,181,382  $1,316,721,747  \n",
      "Missing Value Summary:\n",
      "\n",
      "                   Missing Values  Percentage (%)\n",
      "id                              0             0.0\n",
      "release_date                    0             0.0\n",
      "movie                           0             0.0\n",
      "production_budget               0             0.0\n",
      "domestic_gross                  0             0.0\n",
      "worldwide_gross                 0             0.0\n",
      "\n",
      "Number of duplicate rows: 0\n"
     ]
    }
   ],
   "source": [
    "# View the shape of the dataset\n",
    "print(\"Shape of the dataset:\", df_4.shape)\n",
    "\n",
    "# View the column names\n",
    "print(\"Column names:\", df_4.columns.tolist())\n",
    "\n",
    "# View data types and non-null counts\n",
    "print(\"\\nDataset Info:\")\n",
    "print(df_4.info())\n",
    "\n",
    "# Display the first 5 rows\n",
    "print(\"\\nFirst 5 rows of the dataset:\")\n",
    "print(df_4.head())\n",
    "\n",
    "# Step 1: Count missing values\n",
    "missing_counts = df_4.isnull().sum()\n",
    "\n",
    "# Step 2: Calculate percentage of missing values\n",
    "missing_percentage = (missing_counts / len(df_4)) * 100\n",
    "\n",
    "# Combine into a summary table\n",
    "missing_summary = pd.DataFrame({\n",
    "    'Missing Values': missing_counts,\n",
    "    'Percentage (%)': missing_percentage.round(2)\n",
    "})\n",
    "\n",
    "# Step 3: Check for duplicate rows\n",
    "duplicate_count = df_4.duplicated().sum()\n",
    "\n",
    "# Display results\n",
    "print(\"Missing Value Summary:\\n\")\n",
    "print(missing_summary)\n",
    "\n",
    "print(\"\\nNumber of duplicate rows:\", duplicate_count)\n",
    "\n"
   ]
  },
  {
   "cell_type": "markdown",
   "metadata": {},
   "source": [
    "Monetary Cleanup: We removed dollar signs ($) and commas from the columns 'production_budget', 'domestic_gross', and 'worldwide_gross', converting them to integers.\n",
    "\n",
    "Date Conversion: Converted the 'release_date' column from a string to a proper datetime format.\n",
    "\n",
    "Feature Engineering: Added 'release_year' for time-based analysis.\n",
    "     Calculated 'profit' as the difference between worldwide_gross and production_budget."
   ]
  },
  {
   "cell_type": "code",
   "execution_count": 38,
   "metadata": {},
   "outputs": [
    {
     "data": {
      "text/html": [
       "<div>\n",
       "<style scoped>\n",
       "    .dataframe tbody tr th:only-of-type {\n",
       "        vertical-align: middle;\n",
       "    }\n",
       "\n",
       "    .dataframe tbody tr th {\n",
       "        vertical-align: top;\n",
       "    }\n",
       "\n",
       "    .dataframe thead th {\n",
       "        text-align: right;\n",
       "    }\n",
       "</style>\n",
       "<table border=\"1\" class=\"dataframe\">\n",
       "  <thead>\n",
       "    <tr style=\"text-align: right;\">\n",
       "      <th></th>\n",
       "      <th>id</th>\n",
       "      <th>release_date</th>\n",
       "      <th>movie</th>\n",
       "      <th>production_budget</th>\n",
       "      <th>domestic_gross</th>\n",
       "      <th>worldwide_gross</th>\n",
       "      <th>release_year</th>\n",
       "      <th>profit</th>\n",
       "    </tr>\n",
       "  </thead>\n",
       "  <tbody>\n",
       "    <tr>\n",
       "      <th>0</th>\n",
       "      <td>1</td>\n",
       "      <td>2009-12-18</td>\n",
       "      <td>Avatar</td>\n",
       "      <td>425,000,000.00</td>\n",
       "      <td>760,507,625.00</td>\n",
       "      <td>2,776,345,279.00</td>\n",
       "      <td>2009</td>\n",
       "      <td>2,351,345,279.00</td>\n",
       "    </tr>\n",
       "    <tr>\n",
       "      <th>1</th>\n",
       "      <td>2</td>\n",
       "      <td>2011-05-20</td>\n",
       "      <td>Pirates of the Caribbean: On Stranger Tides</td>\n",
       "      <td>410,600,000.00</td>\n",
       "      <td>241,063,875.00</td>\n",
       "      <td>1,045,663,875.00</td>\n",
       "      <td>2011</td>\n",
       "      <td>635,063,875.00</td>\n",
       "    </tr>\n",
       "    <tr>\n",
       "      <th>2</th>\n",
       "      <td>3</td>\n",
       "      <td>2019-06-07</td>\n",
       "      <td>Dark Phoenix</td>\n",
       "      <td>350,000,000.00</td>\n",
       "      <td>42,762,350.00</td>\n",
       "      <td>149,762,350.00</td>\n",
       "      <td>2019</td>\n",
       "      <td>-200,237,650.00</td>\n",
       "    </tr>\n",
       "    <tr>\n",
       "      <th>3</th>\n",
       "      <td>4</td>\n",
       "      <td>2015-05-01</td>\n",
       "      <td>Avengers: Age of Ultron</td>\n",
       "      <td>330,600,000.00</td>\n",
       "      <td>459,005,868.00</td>\n",
       "      <td>1,403,013,963.00</td>\n",
       "      <td>2015</td>\n",
       "      <td>1,072,413,963.00</td>\n",
       "    </tr>\n",
       "    <tr>\n",
       "      <th>4</th>\n",
       "      <td>5</td>\n",
       "      <td>2017-12-15</td>\n",
       "      <td>Star Wars Ep. VIII: The Last Jedi</td>\n",
       "      <td>317,000,000.00</td>\n",
       "      <td>620,181,382.00</td>\n",
       "      <td>1,316,721,747.00</td>\n",
       "      <td>2017</td>\n",
       "      <td>999,721,747.00</td>\n",
       "    </tr>\n",
       "  </tbody>\n",
       "</table>\n",
       "</div>"
      ],
      "text/plain": [
       "   id release_date                                        movie  \\\n",
       "0   1   2009-12-18                                       Avatar   \n",
       "1   2   2011-05-20  Pirates of the Caribbean: On Stranger Tides   \n",
       "2   3   2019-06-07                                 Dark Phoenix   \n",
       "3   4   2015-05-01                      Avengers: Age of Ultron   \n",
       "4   5   2017-12-15            Star Wars Ep. VIII: The Last Jedi   \n",
       "\n",
       "   production_budget  domestic_gross  worldwide_gross  release_year  \\\n",
       "0     425,000,000.00  760,507,625.00 2,776,345,279.00          2009   \n",
       "1     410,600,000.00  241,063,875.00 1,045,663,875.00          2011   \n",
       "2     350,000,000.00   42,762,350.00   149,762,350.00          2019   \n",
       "3     330,600,000.00  459,005,868.00 1,403,013,963.00          2015   \n",
       "4     317,000,000.00  620,181,382.00 1,316,721,747.00          2017   \n",
       "\n",
       "            profit  \n",
       "0 2,351,345,279.00  \n",
       "1   635,063,875.00  \n",
       "2  -200,237,650.00  \n",
       "3 1,072,413,963.00  \n",
       "4   999,721,747.00  "
      ]
     },
     "execution_count": 38,
     "metadata": {},
     "output_type": "execute_result"
    }
   ],
   "source": [
    "# Step 1: Convert currency columns to float (to handle large numbers safely)\n",
    "money_cols = ['production_budget', 'domestic_gross', 'worldwide_gross']\n",
    "for col in money_cols:\n",
    "    df_4[col] = df_4[col].replace(r'[\\$,]', '', regex=True).astype(float)\n",
    "\n",
    "# Step 2: Convert release_date to datetime\n",
    "df_4['release_date'] = pd.to_datetime(df_4['release_date'])\n",
    "\n",
    "# Step 3: Extract year from release_date\n",
    "df_4['release_year'] = df_4['release_date'].dt.year\n",
    "\n",
    "# Step 4: Calculate profit\n",
    "df_4['profit'] = df_4['worldwide_gross'] - df_4['production_budget']\n",
    "pd.set_option('display.float_format', '{:,.2f}'.format)\n",
    "\n",
    "\n",
    "# Step 5: Preview cleaned dataset\n",
    "df_4.head()\n"
   ]
  },
  {
   "cell_type": "code",
   "execution_count": null,
   "metadata": {},
   "outputs": [],
   "source": [
    "# Step 6: Save the cleaned dataset to a new CSV file\n",
    "df_4.to_csv('data_folder/cleaned_movie_budgets.csv', index=False)\n"
   ]
  },
  {
   "cell_type": "markdown",
   "metadata": {},
   "source": [
    " # 3.8 Merging IMDb Tables"
   ]
  },
  {
   "cell_type": "code",
   "execution_count": 16,
   "metadata": {},
   "outputs": [],
   "source": [
    "# Merge movie_basics and movie_ratings on movie_id\n",
    "imdb_merged = pd.merge(movie_basics, movie_ratings, on='movie_id', how='inner')"
   ]
  },
  {
   "cell_type": "code",
   "execution_count": 17,
   "metadata": {},
   "outputs": [
    {
     "name": "stdout",
     "output_type": "stream",
     "text": [
      "Shape of merged IMDb data: (73856, 8)\n",
      "\n",
      "First 5 rows:\n"
     ]
    },
    {
     "data": {
      "text/html": [
       "<div>\n",
       "<style scoped>\n",
       "    .dataframe tbody tr th:only-of-type {\n",
       "        vertical-align: middle;\n",
       "    }\n",
       "\n",
       "    .dataframe tbody tr th {\n",
       "        vertical-align: top;\n",
       "    }\n",
       "\n",
       "    .dataframe thead th {\n",
       "        text-align: right;\n",
       "    }\n",
       "</style>\n",
       "<table border=\"1\" class=\"dataframe\">\n",
       "  <thead>\n",
       "    <tr style=\"text-align: right;\">\n",
       "      <th></th>\n",
       "      <th>movie_id</th>\n",
       "      <th>primary_title</th>\n",
       "      <th>original_title</th>\n",
       "      <th>start_year</th>\n",
       "      <th>runtime_minutes</th>\n",
       "      <th>genres</th>\n",
       "      <th>averagerating</th>\n",
       "      <th>numvotes</th>\n",
       "    </tr>\n",
       "  </thead>\n",
       "  <tbody>\n",
       "    <tr>\n",
       "      <th>0</th>\n",
       "      <td>tt0063540</td>\n",
       "      <td>Sunghursh</td>\n",
       "      <td>Sunghursh</td>\n",
       "      <td>2013</td>\n",
       "      <td>175.0</td>\n",
       "      <td>Action,Crime,Drama</td>\n",
       "      <td>7.0</td>\n",
       "      <td>77</td>\n",
       "    </tr>\n",
       "    <tr>\n",
       "      <th>1</th>\n",
       "      <td>tt0066787</td>\n",
       "      <td>One Day Before the Rainy Season</td>\n",
       "      <td>Ashad Ka Ek Din</td>\n",
       "      <td>2019</td>\n",
       "      <td>114.0</td>\n",
       "      <td>Biography,Drama</td>\n",
       "      <td>7.2</td>\n",
       "      <td>43</td>\n",
       "    </tr>\n",
       "    <tr>\n",
       "      <th>2</th>\n",
       "      <td>tt0069049</td>\n",
       "      <td>The Other Side of the Wind</td>\n",
       "      <td>The Other Side of the Wind</td>\n",
       "      <td>2018</td>\n",
       "      <td>122.0</td>\n",
       "      <td>Drama</td>\n",
       "      <td>6.9</td>\n",
       "      <td>4517</td>\n",
       "    </tr>\n",
       "    <tr>\n",
       "      <th>3</th>\n",
       "      <td>tt0069204</td>\n",
       "      <td>Sabse Bada Sukh</td>\n",
       "      <td>Sabse Bada Sukh</td>\n",
       "      <td>2018</td>\n",
       "      <td>87.0</td>\n",
       "      <td>Comedy,Drama</td>\n",
       "      <td>6.1</td>\n",
       "      <td>13</td>\n",
       "    </tr>\n",
       "    <tr>\n",
       "      <th>4</th>\n",
       "      <td>tt0100275</td>\n",
       "      <td>The Wandering Soap Opera</td>\n",
       "      <td>La Telenovela Errante</td>\n",
       "      <td>2017</td>\n",
       "      <td>80.0</td>\n",
       "      <td>Comedy,Drama,Fantasy</td>\n",
       "      <td>6.5</td>\n",
       "      <td>119</td>\n",
       "    </tr>\n",
       "  </tbody>\n",
       "</table>\n",
       "</div>"
      ],
      "text/plain": [
       "    movie_id                    primary_title              original_title  \\\n",
       "0  tt0063540                        Sunghursh                   Sunghursh   \n",
       "1  tt0066787  One Day Before the Rainy Season             Ashad Ka Ek Din   \n",
       "2  tt0069049       The Other Side of the Wind  The Other Side of the Wind   \n",
       "3  tt0069204                  Sabse Bada Sukh             Sabse Bada Sukh   \n",
       "4  tt0100275         The Wandering Soap Opera       La Telenovela Errante   \n",
       "\n",
       "   start_year  runtime_minutes                genres  averagerating  numvotes  \n",
       "0        2013            175.0    Action,Crime,Drama            7.0        77  \n",
       "1        2019            114.0       Biography,Drama            7.2        43  \n",
       "2        2018            122.0                 Drama            6.9      4517  \n",
       "3        2018             87.0          Comedy,Drama            6.1        13  \n",
       "4        2017             80.0  Comedy,Drama,Fantasy            6.5       119  "
      ]
     },
     "metadata": {},
     "output_type": "display_data"
    }
   ],
   "source": [
    "# Check the merged dataframe\n",
    "print(\"Shape of merged IMDb data:\", imdb_merged.shape)\n",
    "print(\"\\nFirst 5 rows:\")\n",
    "display(imdb_merged.head())"
   ]
  },
  {
   "cell_type": "code",
   "execution_count": 18,
   "metadata": {},
   "outputs": [
    {
     "name": "stdout",
     "output_type": "stream",
     "text": [
      "\n",
      "Missing values in merged data:\n",
      "movie_id           0\n",
      "primary_title      0\n",
      "original_title     0\n",
      "start_year         0\n",
      "runtime_minutes    0\n",
      "genres             0\n",
      "averagerating      0\n",
      "numvotes           0\n",
      "dtype: int64\n"
     ]
    }
   ],
   "source": [
    "# Check for missing values in merged data\n",
    "print(\"\\nMissing values in merged data:\")\n",
    "print(imdb_merged.isnull().sum())"
   ]
  },
  {
   "cell_type": "markdown",
   "metadata": {},
   "source": [
    "# 3.8 Merging IMDb Data with Box Office Data"
   ]
  },
  {
   "cell_type": "code",
   "execution_count": 19,
   "metadata": {},
   "outputs": [],
   "source": [
    "# Load cleaned box office data\n",
    "bom_movies = pd.read_csv('Data_Folder/cleaned_bom_movie_gross.csv')"
   ]
  },
  {
   "cell_type": "code",
   "execution_count": 20,
   "metadata": {},
   "outputs": [],
   "source": [
    "# We'll merge on title and year, but need to handle potential title mismatches\n",
    "# First, standardize titles by making them lowercase and removing punctuation\n",
    "import re\n",
    "\n",
    "def clean_title(title):\n",
    "    if isinstance(title, str):\n",
    "        title = title.lower()\n",
    "        title = re.sub(r'[^a-z0-9\\\\s]', '', title)\n",
    "        return title.strip()\n",
    "    return title\n",
    "\n",
    "# Apply cleaning to both datasets\n",
    "imdb_merged['clean_title'] = imdb_merged['primary_title'].apply(clean_title)\n",
    "bom_movies['clean_title'] = bom_movies['title'].apply(clean_title)\n",
    "\n",
    "# Merge on clean_title and year\n",
    "merged_data = pd.merge(\n",
    "    imdb_merged,\n",
    "    bom_movies,\n",
    "    left_on=['clean_title', 'start_year'],\n",
    "    right_on=['clean_title', 'year'],\n",
    "    how='inner'\n",
    ")\n"
   ]
  },
  {
   "cell_type": "code",
   "execution_count": 21,
   "metadata": {},
   "outputs": [
    {
     "name": "stdout",
     "output_type": "stream",
     "text": [
      "Shape of final merged dataset: (1973, 11)\n",
      "\n",
      "Columns in final dataset: ['movie_id', 'primary_title', 'original_title', 'start_year', 'runtime_minutes', 'genres', 'averagerating', 'numvotes', 'studio', 'domestic_gross', 'foreign_gross']\n"
     ]
    }
   ],
   "source": [
    "# Drop unnecessary columns and duplicates\n",
    "merged_data = merged_data.drop(columns=['clean_title', 'title', 'year'])\n",
    "merged_data = merged_data.drop_duplicates(subset=['movie_id'])\n",
    "\n",
    "print(\"Shape of final merged dataset:\", merged_data.shape)\n",
    "print(\"\\nColumns in final dataset:\", merged_data.columns.tolist())"
   ]
  },
  {
   "cell_type": "code",
   "execution_count": 22,
   "metadata": {},
   "outputs": [],
   "source": [
    "# Calculate total gross (domestic + foreign)\n",
    "merged_data['total_gross'] = merged_data['domestic_gross'] + merged_data['foreign_gross']\n"
   ]
  },
  {
   "cell_type": "code",
   "execution_count": 23,
   "metadata": {},
   "outputs": [],
   "source": [
    "# Save cleaned merged data for analysis\n",
    "merged_data.to_csv('Data_Folder/final_merged_movie_data.csv', index=False)\n"
   ]
  },
  {
   "cell_type": "code",
   "execution_count": 24,
   "metadata": {},
   "outputs": [],
   "source": [
    "# Close database connection\n",
    "conn.close()\n"
   ]
  },
  {
   "cell_type": "markdown",
   "metadata": {},
   "source": [
    "### Conclusion: Data Preparation\n",
    "\n",
    "With all missing values handled, data types standardized, and duplicate entries confirmed absent, the dataset is now clean and structured for analysis. This solid data foundation ensures that any insights, visualizations, or models built from it will be based on accurate and reliable information.\n"
   ]
  },
  {
   "cell_type": "markdown",
   "metadata": {},
   "source": [
    "#  Film Industry Analysis for New Movie Studio\n"
   ]
  },
  {
   "cell_type": "markdown",
   "metadata": {},
   "source": [
    "## Analysis Introduction\n",
    "### This analysis aims to identify what types of films are currently performing best at the box office and which studios are the best to guide our new movie studio's content strategy. We'll examine three key relationships:"
   ]
  },
  {
   "cell_type": "markdown",
   "metadata": {},
   "source": [
    " ## 1. Genre Popularity & Trends\n",
    " **Key Variables:**\n",
    " - `genres`  \n",
    " - `averagerating`  \n",
    " - `total_gross` \n",
    "  \n",
    " **Why These Matter:**  \n",
    " Determine which genres are most profitable (highest revenue) and most appreciated by audiences (highest ratings).\n"
   ]
  },
  {
   "cell_type": "markdown",
   "metadata": {},
   "source": [
    "## 2. Studio Performance Analysis\n",
    " **Key Variables:**  \n",
    " - `average_rating` \n",
    " - `total_gross` \n",
    "  \n",
    " **Why These Matter:**  \n",
    "Studio perfomance helps a new movie studio identify, succesful production and distribution partners and potential competitive positioning"
   ]
  },
  {
   "cell_type": "markdown",
   "metadata": {},
   "source": [
    "## 3. Audience Preferences  Analysis\n",
    " **Key Variables:**  \n",
    " - `averagerating` \n",
    "  \n",
    " **Why These Matter:**  \n",
    " Understand the relationship between ratings and revenue to balance artistic quality and commercial success."
   ]
  },
  {
   "cell_type": "markdown",
   "metadata": {},
   "source": [
    " ## Expected Insights\n",
    " By the end of this analysis, we'll provide actionable recommendations on:  \n",
    " 1. Which genres to prioritize for production  \n",
    " 2. Which studios are most succesful\n",
    " 3. Do high ratings lead to higher revenue"
   ]
  },
  {
   "cell_type": "markdown",
   "metadata": {},
   "source": [
    " **Note on Data Selection:**  \n",
    " These specific variables were chosen because they:  \n",
    " - Are consistently available across datasets  \n",
    " - Represent controllable business decisions (genre, release timing)  \n",
    " - Directly measure success (revenue, ratings)  \n",
    " - These variables naturally led to the 3 chosen approaches"
   ]
  },
  {
   "cell_type": "markdown",
   "metadata": {},
   "source": [
    "# 4. Analysis"
   ]
  },
  {
   "cell_type": "markdown",
   "metadata": {},
   "source": [
    "## 4.1 Genre Profitability Analysis\n",
    "### Goal:\n",
    "- Understand which movie genres are most profitable (highest average revenue)\n",
    "- Understand which genres are most appreciated by audiences (highest average rating)"
   ]
  },
  {
   "cell_type": "markdown",
   "metadata": {},
   "source": [
    "### Method:\n",
    "- Some movies have multiple genres we explode them so each genre appears in a separate row\n",
    "- Group data by genre and calculate:\n",
    "    - Average gross revenue\n",
    "    - Median gross revenue\n",
    "    - Movie count per genre\n",
    "    - Average IMDb rating"
   ]
  },
  {
   "cell_type": "code",
   "execution_count": 37,
   "metadata": {},
   "outputs": [],
   "source": [
    "# Split genres into separate rows\n",
    "genre_data = merged_data.copy()\n",
    "genre_data['genres'] = genre_data['genres'].str.split(',')\n",
    "genre_data = genre_data.explode('genres')"
   ]
  },
  {
   "cell_type": "code",
   "execution_count": 38,
   "metadata": {},
   "outputs": [],
   "source": [
    "# Group by genre and compute stats\n",
    "genre_group = genre_data.groupby('genres').agg(\n",
    "    avg_gross = ('total_gross', 'mean'),\n",
    "    median_gross = ('total_gross', 'median'),\n",
    "    movie_count = ('total_gross', 'count'),\n",
    "    avg_rating = ('averagerating', 'mean')\n",
    ").sort_values('avg_gross', ascending=False)"
   ]
  },
  {
   "cell_type": "code",
   "execution_count": 39,
   "metadata": {},
   "outputs": [],
   "source": [
    "# Filter significant genres (>= 20 movies)\n",
    "top_genres = genre_group[genre_group['movie_count'] >= 20].head(10)\n"
   ]
  },
  {
   "cell_type": "code",
   "execution_count": 41,
   "metadata": {},
   "outputs": [
    {
     "name": "stdout",
     "output_type": "stream",
     "text": [
      "Top Performing Genres by Average Revenue:\n"
     ]
    },
    {
     "data": {
      "text/html": [
       "<div>\n",
       "<style scoped>\n",
       "    .dataframe tbody tr th:only-of-type {\n",
       "        vertical-align: middle;\n",
       "    }\n",
       "\n",
       "    .dataframe tbody tr th {\n",
       "        vertical-align: top;\n",
       "    }\n",
       "\n",
       "    .dataframe thead th {\n",
       "        text-align: right;\n",
       "    }\n",
       "</style>\n",
       "<table border=\"1\" class=\"dataframe\">\n",
       "  <thead>\n",
       "    <tr style=\"text-align: right;\">\n",
       "      <th></th>\n",
       "      <th>avg_gross</th>\n",
       "      <th>median_gross</th>\n",
       "      <th>movie_count</th>\n",
       "      <th>avg_rating</th>\n",
       "    </tr>\n",
       "    <tr>\n",
       "      <th>genres</th>\n",
       "      <th></th>\n",
       "      <th></th>\n",
       "      <th></th>\n",
       "      <th></th>\n",
       "    </tr>\n",
       "  </thead>\n",
       "  <tbody>\n",
       "    <tr>\n",
       "      <th>Sci-Fi</th>\n",
       "      <td>3.339870e+08</td>\n",
       "      <td>240900000.0</td>\n",
       "      <td>114</td>\n",
       "      <td>6.516667</td>\n",
       "    </tr>\n",
       "    <tr>\n",
       "      <th>Adventure</th>\n",
       "      <td>3.187726e+08</td>\n",
       "      <td>205000000.0</td>\n",
       "      <td>385</td>\n",
       "      <td>6.462597</td>\n",
       "    </tr>\n",
       "    <tr>\n",
       "      <th>Animation</th>\n",
       "      <td>3.167134e+08</td>\n",
       "      <td>237050000.0</td>\n",
       "      <td>122</td>\n",
       "      <td>6.592623</td>\n",
       "    </tr>\n",
       "    <tr>\n",
       "      <th>Fantasy</th>\n",
       "      <td>2.273519e+08</td>\n",
       "      <td>91600000.0</td>\n",
       "      <td>137</td>\n",
       "      <td>6.281022</td>\n",
       "    </tr>\n",
       "    <tr>\n",
       "      <th>Action</th>\n",
       "      <td>1.883243e+08</td>\n",
       "      <td>70550000.0</td>\n",
       "      <td>552</td>\n",
       "      <td>6.330616</td>\n",
       "    </tr>\n",
       "    <tr>\n",
       "      <th>Family</th>\n",
       "      <td>1.497539e+08</td>\n",
       "      <td>75700000.0</td>\n",
       "      <td>91</td>\n",
       "      <td>6.018681</td>\n",
       "    </tr>\n",
       "    <tr>\n",
       "      <th>Comedy</th>\n",
       "      <td>1.047134e+08</td>\n",
       "      <td>32500000.0</td>\n",
       "      <td>700</td>\n",
       "      <td>6.179714</td>\n",
       "    </tr>\n",
       "    <tr>\n",
       "      <th>Thriller</th>\n",
       "      <td>1.038097e+08</td>\n",
       "      <td>37600000.0</td>\n",
       "      <td>299</td>\n",
       "      <td>6.255184</td>\n",
       "    </tr>\n",
       "    <tr>\n",
       "      <th>Mystery</th>\n",
       "      <td>8.769629e+07</td>\n",
       "      <td>35750000.0</td>\n",
       "      <td>142</td>\n",
       "      <td>6.292958</td>\n",
       "    </tr>\n",
       "    <tr>\n",
       "      <th>Horror</th>\n",
       "      <td>8.065400e+07</td>\n",
       "      <td>41900000.0</td>\n",
       "      <td>159</td>\n",
       "      <td>5.745912</td>\n",
       "    </tr>\n",
       "  </tbody>\n",
       "</table>\n",
       "</div>"
      ],
      "text/plain": [
       "              avg_gross  median_gross  movie_count  avg_rating\n",
       "genres                                                        \n",
       "Sci-Fi     3.339870e+08   240900000.0          114    6.516667\n",
       "Adventure  3.187726e+08   205000000.0          385    6.462597\n",
       "Animation  3.167134e+08   237050000.0          122    6.592623\n",
       "Fantasy    2.273519e+08    91600000.0          137    6.281022\n",
       "Action     1.883243e+08    70550000.0          552    6.330616\n",
       "Family     1.497539e+08    75700000.0           91    6.018681\n",
       "Comedy     1.047134e+08    32500000.0          700    6.179714\n",
       "Thriller   1.038097e+08    37600000.0          299    6.255184\n",
       "Mystery    8.769629e+07    35750000.0          142    6.292958\n",
       "Horror     8.065400e+07    41900000.0          159    5.745912"
      ]
     },
     "metadata": {},
     "output_type": "display_data"
    }
   ],
   "source": [
    "# Display top genres\n",
    "print(\"Top Performing Genres by Average Revenue:\")\n",
    "display(top_genres)"
   ]
  },
  {
   "cell_type": "code",
   "execution_count": 43,
   "metadata": {},
   "outputs": [
    {
     "data": {
      "image/png": "[encoded data removed]",
      "text/plain": [
       "<Figure size 864x432 with 1 Axes>"
      ]
     },
     "metadata": {
      "needs_background": "light"
     },
     "output_type": "display_data"
    }
   ],
   "source": [
    "# Plot: Revenue against genre\n",
    "plt.figure(figsize=(12,6))\n",
    "sns.barplot(x=top_genres.index, y=top_genres['avg_gross']/1e6)\n",
    "plt.title('Top 10 Genres by Average Revenue ($M)')\n",
    "plt.ylabel('Average Gross Revenue ($M)')\n",
    "plt.xticks(rotation=45)\n",
    "plt.show()"
   ]
  },
  {
   "cell_type": "code",
   "execution_count": 44,
   "metadata": {},
   "outputs": [
    {
     "data": {
      "image/png": "[encoded data removed]",
      "text/plain": [
       "<Figure size 864x432 with 1 Axes>"
      ]
     },
     "metadata": {
      "needs_background": "light"
     },
     "output_type": "display_data"
    }
   ],
   "source": [
    "# Plot: Rating against genre\n",
    "plt.figure(figsize=(12,6))\n",
    "sns.barplot(x=top_genres.index, y=top_genres['avg_rating'])\n",
    "plt.title('Average IMDb Rating by Genre')\n",
    "plt.ylabel('Average IMDb Rating')\n",
    "plt.xticks(rotation=45)\n",
    "plt.show()\n"
   ]
  },
  {
   "cell_type": "markdown",
   "metadata": {},
   "source": [
    " **Key Findings:**\n",
    "1. Sci-Fi, Adventure & Animation genres generate the highest average revenue.\n",
    "2. Sci-Fi genres achieve both high revenues and high IMDb ratings a good commercial and critical performance.\n",
    "3. Animation also shows strong ratings and very high revenue a good genre for both family and general audience markets.\n"
   ]
  },
  {
   "cell_type": "markdown",
   "metadata": {},
   "source": [
    "## 4.2 Studio Performance Analysis\n",
    "### Goal:\n",
    "This helps identify which studios consistently produce highly-rated films. Understanding studio performance is crucial for strategic partnerships, distribution planning, and benchmarking success."
   ]
  },
  {
   "cell_type": "markdown",
   "metadata": {},
   "source": [
    "\n",
    "### Method:\n",
    "- Grouped the merged dataset by studio\n",
    "- Calculated:\n",
    "    - Average total gross revenue\n",
    "    - Number of films per studio\n",
    "    - Average IMDb rating\n",
    "- Filtered to studios with atleast 5 movies\n",
    "- Displayed top 10 studios by average revenue\n",
    "- Visualized studio vs average revenue "
   ]
  },
  {
   "cell_type": "code",
   "execution_count": 65,
   "metadata": {},
   "outputs": [],
   "source": [
    " # Filter out studios with very few movies (keep studios with at least 5 movies)\n",
    "studio_stats = merged_data.groupby('studio').agg({\n",
    "    'total_gross': ['mean', 'median', 'count'],\n",
    "    'averagerating': 'mean'\n",
    "}).sort_values(('total_gross', 'mean'), ascending=False)\n"
   ]
  },
  {
   "cell_type": "code",
   "execution_count": 72,
   "metadata": {},
   "outputs": [],
   "source": [
    "# Filter for statistically significant studios\n",
    "significant_studios = studio_stats[studio_stats[('total_gross', 'count')] >= 5]\n"
   ]
  },
  {
   "cell_type": "code",
   "execution_count": 73,
   "metadata": {},
   "outputs": [],
   "source": [
    "# Take top 10 studios by average revenue\n",
    "top_studios = significant_studios.head(10)"
   ]
  },
  {
   "cell_type": "code",
   "execution_count": 74,
   "metadata": {},
   "outputs": [
    {
     "name": "stdout",
     "output_type": "stream",
     "text": [
      "Top Performing Studios by Average Revenue:\n"
     ]
    },
    {
     "data": {
      "text/html": [
       "<div>\n",
       "<style scoped>\n",
       "    .dataframe tbody tr th:only-of-type {\n",
       "        vertical-align: middle;\n",
       "    }\n",
       "\n",
       "    .dataframe tbody tr th {\n",
       "        vertical-align: top;\n",
       "    }\n",
       "\n",
       "    .dataframe thead tr th {\n",
       "        text-align: left;\n",
       "    }\n",
       "\n",
       "    .dataframe thead tr:last-of-type th {\n",
       "        text-align: right;\n",
       "    }\n",
       "</style>\n",
       "<table border=\"1\" class=\"dataframe\">\n",
       "  <thead>\n",
       "    <tr>\n",
       "      <th></th>\n",
       "      <th colspan=\"3\" halign=\"left\">total_gross</th>\n",
       "      <th>averagerating</th>\n",
       "    </tr>\n",
       "    <tr>\n",
       "      <th></th>\n",
       "      <th>mean</th>\n",
       "      <th>median</th>\n",
       "      <th>count</th>\n",
       "      <th>mean</th>\n",
       "    </tr>\n",
       "    <tr>\n",
       "      <th>studio</th>\n",
       "      <th></th>\n",
       "      <th></th>\n",
       "      <th></th>\n",
       "      <th></th>\n",
       "    </tr>\n",
       "  </thead>\n",
       "  <tbody>\n",
       "    <tr>\n",
       "      <th>P/DW</th>\n",
       "      <td>5.076500e+08</td>\n",
       "      <td>524950000.0</td>\n",
       "      <td>10</td>\n",
       "      <td>6.760000</td>\n",
       "    </tr>\n",
       "    <tr>\n",
       "      <th>BV</th>\n",
       "      <td>4.296776e+08</td>\n",
       "      <td>284200000.0</td>\n",
       "      <td>87</td>\n",
       "      <td>6.956322</td>\n",
       "    </tr>\n",
       "    <tr>\n",
       "      <th>WB</th>\n",
       "      <td>2.434465e+08</td>\n",
       "      <td>128200000.0</td>\n",
       "      <td>114</td>\n",
       "      <td>6.642982</td>\n",
       "    </tr>\n",
       "    <tr>\n",
       "      <th>Fox</th>\n",
       "      <td>2.323818e+08</td>\n",
       "      <td>167800000.0</td>\n",
       "      <td>117</td>\n",
       "      <td>6.362393</td>\n",
       "    </tr>\n",
       "    <tr>\n",
       "      <th>WB (NL)</th>\n",
       "      <td>2.310976e+08</td>\n",
       "      <td>153400000.0</td>\n",
       "      <td>42</td>\n",
       "      <td>6.245238</td>\n",
       "    </tr>\n",
       "    <tr>\n",
       "      <th>Sony</th>\n",
       "      <td>2.080057e+08</td>\n",
       "      <td>148600000.0</td>\n",
       "      <td>88</td>\n",
       "      <td>6.290909</td>\n",
       "    </tr>\n",
       "    <tr>\n",
       "      <th>Par.</th>\n",
       "      <td>2.068802e+08</td>\n",
       "      <td>134500000.0</td>\n",
       "      <td>82</td>\n",
       "      <td>6.402439</td>\n",
       "    </tr>\n",
       "    <tr>\n",
       "      <th>Uni.</th>\n",
       "      <td>2.068196e+08</td>\n",
       "      <td>129650000.0</td>\n",
       "      <td>128</td>\n",
       "      <td>6.256250</td>\n",
       "    </tr>\n",
       "    <tr>\n",
       "      <th>Sum.</th>\n",
       "      <td>1.522979e+08</td>\n",
       "      <td>58150000.0</td>\n",
       "      <td>14</td>\n",
       "      <td>6.264286</td>\n",
       "    </tr>\n",
       "    <tr>\n",
       "      <th>LG/S</th>\n",
       "      <td>1.322693e+08</td>\n",
       "      <td>88700000.0</td>\n",
       "      <td>35</td>\n",
       "      <td>6.454286</td>\n",
       "    </tr>\n",
       "  </tbody>\n",
       "</table>\n",
       "</div>"
      ],
      "text/plain": [
       "          total_gross                    averagerating\n",
       "                 mean       median count          mean\n",
       "studio                                                \n",
       "P/DW     5.076500e+08  524950000.0    10      6.760000\n",
       "BV       4.296776e+08  284200000.0    87      6.956322\n",
       "WB       2.434465e+08  128200000.0   114      6.642982\n",
       "Fox      2.323818e+08  167800000.0   117      6.362393\n",
       "WB (NL)  2.310976e+08  153400000.0    42      6.245238\n",
       "Sony     2.080057e+08  148600000.0    88      6.290909\n",
       "Par.     2.068802e+08  134500000.0    82      6.402439\n",
       "Uni.     2.068196e+08  129650000.0   128      6.256250\n",
       "Sum.     1.522979e+08   58150000.0    14      6.264286\n",
       "LG/S     1.322693e+08   88700000.0    35      6.454286"
      ]
     },
     "metadata": {},
     "output_type": "display_data"
    }
   ],
   "source": [
    "# Display the table\n",
    "print(\"Top Performing Studios by Average Revenue:\")\n",
    "display(top_studios)"
   ]
  },
  {
   "cell_type": "code",
   "execution_count": 75,
   "metadata": {},
   "outputs": [
    {
     "data": {
      "image/png": "[encoded data removed]",
      "text/plain": [
       "<Figure size 864x432 with 1 Axes>"
      ]
     },
     "metadata": {
      "needs_background": "light"
     },
     "output_type": "display_data"
    }
   ],
   "source": [
    "# Visualization: Studio vs. Revenue\n",
    "plt.figure(figsize=(12, 6))\n",
    "sns.barplot(\n",
    "    x=top_studios.index,\n",
    "    y=top_studios[('total_gross', 'mean')] / 1e6  # in millions\n",
    ")\n",
    "plt.title('Top 10 Studios by Average Revenue (Millions USD)')\n",
    "plt.ylabel('Average Gross Revenue ($M)')\n",
    "plt.xticks(rotation=45)\n",
    "plt.show()\n"
   ]
  },
  {
   "cell_type": "markdown",
   "metadata": {},
   "source": [
    "**Key Findings:**\n",
    "1. The two studios P/DW and BV have the best average revenue which makes them the best candidates to partner with"
   ]
  },
  {
   "cell_type": "markdown",
   "metadata": {},
   "source": [
    "## 4.3 Audience Preferences (Ratings vs. Revenue)\n",
    "### Goal:\n",
    "- Understand relationship between IMDb ratings and total revenue\n",
    "- Identify which rating ranges are most commercially successful\n"
   ]
  },
  {
   "cell_type": "markdown",
   "metadata": {},
   "source": [
    "### Method:\n",
    "- Create rating tiers:\n",
    "    - <5\n",
    "    - 5-6\n",
    "    - 6-7\n",
    "    - 7-8\n",
    "    - 8+\n",
    "- Group data by rating tier and calculate:\n",
    "    - Average revenue\n",
    "    - Median revenue\n",
    "    - Movie count per tier\n",
    "    - Average rating\n",
    "- Plot scatter of individual movie ratings vs. total gross\n",
    "- Compute correlation between rating and revenue"
   ]
  },
  {
   "cell_type": "code",
   "execution_count": 57,
   "metadata": {},
   "outputs": [],
   "source": [
    "# Create rating tiers\n",
    "rating_data = merged_data.copy()\n",
    "rating_data['rating_tier'] = pd.cut(\n",
    "    rating_data['averagerating'],\n",
    "    bins=[0,5,6,7,8,10],\n",
    "    labels=['<5', '5-6', '6-7', '7-8', '8+']\n",
    ")\n"
   ]
  },
  {
   "cell_type": "code",
   "execution_count": 58,
   "metadata": {},
   "outputs": [],
   "source": [
    "# Group by rating tier\n",
    "rating_group = rating_data.groupby('rating_tier').agg(\n",
    "    avg_gross = ('total_gross', 'mean'),\n",
    "    median_gross = ('total_gross', 'median'),\n",
    "    movie_count = ('total_gross', 'count'),\n",
    "    avg_rating = ('averagerating', 'mean')\n",
    ")"
   ]
  },
  {
   "cell_type": "code",
   "execution_count": 59,
   "metadata": {},
   "outputs": [
    {
     "name": "stdout",
     "output_type": "stream",
     "text": [
      "Performance by Rating Tier:\n"
     ]
    },
    {
     "data": {
      "text/html": [
       "<div>\n",
       "<style scoped>\n",
       "    .dataframe tbody tr th:only-of-type {\n",
       "        vertical-align: middle;\n",
       "    }\n",
       "\n",
       "    .dataframe tbody tr th {\n",
       "        vertical-align: top;\n",
       "    }\n",
       "\n",
       "    .dataframe thead th {\n",
       "        text-align: right;\n",
       "    }\n",
       "</style>\n",
       "<table border=\"1\" class=\"dataframe\">\n",
       "  <thead>\n",
       "    <tr style=\"text-align: right;\">\n",
       "      <th></th>\n",
       "      <th>avg_gross</th>\n",
       "      <th>median_gross</th>\n",
       "      <th>movie_count</th>\n",
       "      <th>avg_rating</th>\n",
       "    </tr>\n",
       "    <tr>\n",
       "      <th>rating_tier</th>\n",
       "      <th></th>\n",
       "      <th></th>\n",
       "      <th></th>\n",
       "      <th></th>\n",
       "    </tr>\n",
       "  </thead>\n",
       "  <tbody>\n",
       "    <tr>\n",
       "      <th>&lt;5</th>\n",
       "      <td>5.166465e+07</td>\n",
       "      <td>10054800.0</td>\n",
       "      <td>166</td>\n",
       "      <td>4.308434</td>\n",
       "    </tr>\n",
       "    <tr>\n",
       "      <th>5-6</th>\n",
       "      <td>6.968246e+07</td>\n",
       "      <td>19699999.0</td>\n",
       "      <td>445</td>\n",
       "      <td>5.619775</td>\n",
       "    </tr>\n",
       "    <tr>\n",
       "      <th>6-7</th>\n",
       "      <td>1.003219e+08</td>\n",
       "      <td>27200000.0</td>\n",
       "      <td>806</td>\n",
       "      <td>6.536352</td>\n",
       "    </tr>\n",
       "    <tr>\n",
       "      <th>7-8</th>\n",
       "      <td>1.566118e+08</td>\n",
       "      <td>30800000.0</td>\n",
       "      <td>499</td>\n",
       "      <td>7.448898</td>\n",
       "    </tr>\n",
       "    <tr>\n",
       "      <th>8+</th>\n",
       "      <td>2.337414e+08</td>\n",
       "      <td>49000000.0</td>\n",
       "      <td>57</td>\n",
       "      <td>8.271930</td>\n",
       "    </tr>\n",
       "  </tbody>\n",
       "</table>\n",
       "</div>"
      ],
      "text/plain": [
       "                avg_gross  median_gross  movie_count  avg_rating\n",
       "rating_tier                                                     \n",
       "<5           5.166465e+07    10054800.0          166    4.308434\n",
       "5-6          6.968246e+07    19699999.0          445    5.619775\n",
       "6-7          1.003219e+08    27200000.0          806    6.536352\n",
       "7-8          1.566118e+08    30800000.0          499    7.448898\n",
       "8+           2.337414e+08    49000000.0           57    8.271930"
      ]
     },
     "metadata": {},
     "output_type": "display_data"
    }
   ],
   "source": [
    "# Display rating tier performance\n",
    "print(\"Performance by Rating Tier:\")\n",
    "display(rating_group)"
   ]
  },
  {
   "cell_type": "code",
   "execution_count": 60,
   "metadata": {},
   "outputs": [
    {
     "data": {
      "image/png": "[encoded data removed]",
      "text/plain": [
       "<Figure size 720x432 with 1 Axes>"
      ]
     },
     "metadata": {
      "needs_background": "light"
     },
     "output_type": "display_data"
    }
   ],
   "source": [
    "# Plot: IMDb Rating vs Revenue scatter\n",
    "plt.figure(figsize=(10,6))\n",
    "sns.scatterplot(x='averagerating', y='total_gross', data=rating_data, alpha=0.5)\n",
    "plt.yscale('log')\n",
    "plt.title('IMDb Rating vs Total Gross Revenue')\n",
    "plt.xlabel('Average Rating')\n",
    "plt.ylabel('Total Gross Revenue ($)')\n",
    "plt.show()\n"
   ]
  },
  {
   "cell_type": "code",
   "execution_count": 61,
   "metadata": {},
   "outputs": [
    {
     "name": "stdout",
     "output_type": "stream",
     "text": [
      "Correlation between rating and revenue: 0.20\n"
     ]
    }
   ],
   "source": [
    "# Correlation\n",
    "corr = rating_data['averagerating'].corr(rating_data['total_gross'])\n",
    "print(f\"Correlation between rating and revenue: {corr:.2f}\")"
   ]
  },
  {
   "cell_type": "markdown",
   "metadata": {},
   "source": [
    "**Key Findings:**\n",
    "1. Weak positive correlation (r=0.20) between ratings and revenue — higher ratings are slightly associated with higher revenue.\n",
    "2. range 6-7 performs best commercially mass-appeal films that attract large audiences.\n",
    "3. Blockbuster franchises perform well even with mid-range ratings.\n",
    "4. Highest rated movies (>8) have more modest commercial performance."
   ]
  },
  {
   "cell_type": "markdown",
   "metadata": {},
   "source": [
    "## CONCLUSION\n",
    "The analysis reveals:\n",
    "\n",
    "1. Sci-Fi, Adventure, and Animation are the best genres for profitability and audience appeal.\n",
    "2. Partnering with top-performing studios can enhance production quality and distribution.\n",
    "3. Balancing revenue and ratings requires a mixed strategy—focusing on blockbusters for income and critically acclaimed projects for reputation.\n",
    "\n"
   ]
  }
 ],
 "metadata": {
  "kernelspec": {
   "display_name": "base",
   "language": "python",
   "name": "python3"
  },
  "language_info": {
   "codemirror_mode": {
    "name": "ipython",
    "version": 3
   },
   "file_extension": ".py",
   "mimetype": "text/x-python",
   "name": "python",
   "nbconvert_exporter": "python",
   "pygments_lexer": "ipython3",
   "version": "3.12.7"
  }
 },
 "nbformat": 4,
 "nbformat_minor": 2
}
